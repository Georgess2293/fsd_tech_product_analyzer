{
 "cells": [
  {
   "cell_type": "code",
   "execution_count": null,
   "metadata": {},
   "outputs": [],
   "source": [
    "from selenium import webdriver\n",
    "from selenium.webdriver.chrome.options import Options\n",
    "from selenium.webdriver.support.ui import WebDriverWait\n",
    "from selenium.webdriver.support import expected_conditions as EC\n",
    "from selenium.webdriver.common.by import By\n",
    "from selenium.webdriver.common.keys import Keys\n",
    "from selenium.common.exceptions import TimeoutException,WebDriverException\n",
    "from selenium.webdriver.common.action_chains import ActionChains\n",
    "import pandas as pd\n",
    "from hook import return_last_date"
   ]
  },
  {
   "cell_type": "code",
   "execution_count": null,
   "metadata": {},
   "outputs": [],
   "source": [
    "driver = webdriver.Chrome()\n",
    "options = Options()\n",
    "options.add_argument('--headless')\n",
    "driver = webdriver.Chrome(options=options)"
   ]
  },
  {
   "cell_type": "code",
   "execution_count": 2,
   "metadata": {},
   "outputs": [],
   "source": [
    "from main import etl_job\n",
    "import praw"
   ]
  },
  {
   "cell_type": "code",
   "execution_count": 3,
   "metadata": {},
   "outputs": [],
   "source": [
    "reddit=praw.Reddit(\n",
    "            client_id=\"A99udy2Ex7RaoBzW5O3Gdw\",\n",
    "            client_secret=\"jOKXzOzOe9sk-wn-i5a7c4I4zdac4w\",\n",
    "            user_agent=\"my-tech\"\n",
    "        )"
   ]
  },
  {
   "cell_type": "code",
   "execution_count": 4,
   "metadata": {},
   "outputs": [
    {
     "name": "stderr",
     "output_type": "stream",
     "text": [
      "2023-10-28 17:43:27,378 - prehook - INFO - Executing prehook sql file\n",
      "2023-10-28 17:43:27,378 - prehook - INFO - Creating reviews staging table\n",
      "2023-10-28 17:43:47,764 - prehook - INFO - Creating reviews 2nd staging table\n",
      "2023-10-28 17:44:25,335 - prehook - INFO - Creating specs staging table\n",
      "2023-10-28 17:44:25,342 - prehook - INFO - Creating prices staging table\n",
      "2023-10-28 17:44:27,742 - prehook - INFO - Prehook Success\n",
      "2023-10-28 17:44:33,580 - hook - INFO - Creating etl_last_date_gsm\n",
      "2023-10-28 17:44:33,582 - hook - INFO - Creating etl_last_date_reddit\n",
      "2023-10-28 17:44:33,583 - hook - INFO - Returning product URL\n",
      "2023-10-28 17:44:37,467 - hook - INFO - Inserting staging tables\n",
      "c:\\Users\\lenovo\\Desktop\\SE_Factory\\fsd_tech_product_analyzer\\database_handler.py:51: UserWarning: pandas only supports SQLAlchemy connectable (engine/connection) or database string URI or sqlite3 DBAPI2 connection. Other DBAPI2 objects are not tested. Please consider using SQLAlchemy.\n",
      "  return_dataframe = pd.read_sql_query(con= db_session, sql= file_executor)\n",
      "c:\\Users\\lenovo\\Desktop\\SE_Factory\\fsd_tech_product_analyzer\\database_handler.py:51: UserWarning: pandas only supports SQLAlchemy connectable (engine/connection) or database string URI or sqlite3 DBAPI2 connection. Other DBAPI2 objects are not tested. Please consider using SQLAlchemy.\n",
      "  return_dataframe = pd.read_sql_query(con= db_session, sql= file_executor)\n",
      "2023-10-28 17:45:50,900 - hook - INFO - Executing SQL commands\n",
      "2023-10-28 17:45:51,799 - hook - INFO - Updating last date review\n",
      "2023-10-28 17:45:51,805 - hook - INFO - Hook Success\n",
      "2023-10-28 17:45:55,933 - posthook - INFO - Truncating staging tables\n",
      "2023-10-28 17:45:56,083 - posthook - INFO - Posthook Success\n"
     ]
    }
   ],
   "source": [
    "etl_job(\"Nord N300\",reddit)"
   ]
  },
  {
   "cell_type": "code",
   "execution_count": null,
   "metadata": {},
   "outputs": [],
   "source": [
    "from logging_handler import setup_info_logger\n",
    "logger=setup_info_logger()"
   ]
  },
  {
   "cell_type": "code",
   "execution_count": null,
   "metadata": {},
   "outputs": [],
   "source": [
    "logger.info(\"hello there\")"
   ]
  }
 ],
 "metadata": {
  "kernelspec": {
   "display_name": "se_pl_analysis_env",
   "language": "python",
   "name": "python3"
  },
  "language_info": {
   "codemirror_mode": {
    "name": "ipython",
    "version": 3
   },
   "file_extension": ".py",
   "mimetype": "text/x-python",
   "name": "python",
   "nbconvert_exporter": "python",
   "pygments_lexer": "ipython3",
   "version": "3.10.9"
  }
 },
 "nbformat": 4,
 "nbformat_minor": 2
}
