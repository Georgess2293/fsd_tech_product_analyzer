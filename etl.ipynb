{
 "cells": [
  {
   "cell_type": "code",
   "execution_count": 1,
   "metadata": {},
   "outputs": [],
   "source": [
    "from main import etl_job\n",
    "import praw"
   ]
  },
  {
   "cell_type": "code",
   "execution_count": 2,
   "metadata": {},
   "outputs": [],
   "source": [
    "reddit=praw.Reddit(\n",
    "            client_id=\"your_client_id\",\n",
    "            client_secret=\"your_client_secret\",\n",
    "            user_agent=\"your_user_agent\"\n",
    "        )"
   ]
  },
  {
   "cell_type": "code",
   "execution_count": 3,
   "metadata": {},
   "outputs": [
    {
     "name": "stderr",
     "output_type": "stream",
     "text": [
      "2023-10-29 22:09:59,841 - prehook - INFO - Executing prehook sql file\n",
      "2023-10-29 22:09:59,906 - prehook - INFO - Creating reviews staging table\n",
      "2023-10-29 22:10:27,223 - prawcore - WARNING - Retrying due to ConnectionError(ProtocolError('Connection aborted.', RemoteDisconnected('Remote end closed connection without response'))) status: POST https://oauth.reddit.com/api/morechildren/\n",
      "2023-10-29 22:10:42,385 - prehook - INFO - Creating reviews 2nd staging table\n",
      "2023-10-29 22:11:00,296 - prehook - INFO - Creating specs staging table\n",
      "2023-10-29 22:11:00,306 - prehook - INFO - Creating prices staging table\n",
      "2023-10-29 22:11:02,835 - prehook - INFO - Prehook Success\n",
      "2023-10-29 22:11:09,019 - hook - INFO - Creating etl_last_date_gsm\n",
      "2023-10-29 22:11:09,019 - hook - INFO - Creating etl_last_date_reddit\n",
      "2023-10-29 22:11:09,019 - hook - INFO - Returning product URL\n",
      "2023-10-29 22:11:11,203 - hook - INFO - Inserting staging tables\n",
      "c:\\Users\\lenovo\\Desktop\\SE_Factory\\fsd_tech_product_analyzer\\database_handler.py:51: UserWarning: pandas only supports SQLAlchemy connectable (engine/connection) or database string URI or sqlite3 DBAPI2 connection. Other DBAPI2 objects are not tested. Please consider using SQLAlchemy.\n",
      "  return_dataframe = pd.read_sql_query(con= db_session, sql= file_executor)\n",
      "c:\\Users\\lenovo\\Desktop\\SE_Factory\\fsd_tech_product_analyzer\\database_handler.py:51: UserWarning: pandas only supports SQLAlchemy connectable (engine/connection) or database string URI or sqlite3 DBAPI2 connection. Other DBAPI2 objects are not tested. Please consider using SQLAlchemy.\n",
      "  return_dataframe = pd.read_sql_query(con= db_session, sql= file_executor)\n",
      "2023-10-29 22:12:32,705 - hook - INFO - Executing SQL commands\n",
      "2023-10-29 22:12:35,461 - hook - INFO - Updating last date review\n",
      "2023-10-29 22:12:35,489 - hook - INFO - Hook Success\n",
      "2023-10-29 22:12:39,659 - posthook - INFO - Truncating staging tables\n",
      "2023-10-29 22:12:40,044 - posthook - INFO - Posthook Success\n"
     ]
    }
   ],
   "source": [
    "etl_job(\"Nord N300\",reddit)"
   ]
  }
 ],
 "metadata": {
  "kernelspec": {
   "display_name": "se_pl_analysis_env",
   "language": "python",
   "name": "python3"
  },
  "language_info": {
   "codemirror_mode": {
    "name": "ipython",
    "version": 3
   },
   "file_extension": ".py",
   "mimetype": "text/x-python",
   "name": "python",
   "nbconvert_exporter": "python",
   "pygments_lexer": "ipython3",
   "version": "3.10.9"
  }
 },
 "nbformat": 4,
 "nbformat_minor": 2
}
