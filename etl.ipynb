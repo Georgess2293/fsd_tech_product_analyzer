{
 "cells": [
  {
   "cell_type": "code",
   "execution_count": 1,
   "metadata": {},
   "outputs": [],
   "source": [
    "from selenium import webdriver\n",
    "from selenium.webdriver.chrome.options import Options\n",
    "from selenium.webdriver.support.ui import WebDriverWait\n",
    "from selenium.webdriver.support import expected_conditions as EC\n",
    "from selenium.webdriver.common.by import By\n",
    "from selenium.webdriver.common.keys import Keys\n",
    "from selenium.common.exceptions import TimeoutException,WebDriverException\n",
    "from selenium.webdriver.common.action_chains import ActionChains\n",
    "import pandas as pd\n",
    "from hook import return_last_date"
   ]
  },
  {
   "cell_type": "code",
   "execution_count": 2,
   "metadata": {},
   "outputs": [],
   "source": [
    "from database_handler import create_connection,execute_query,return_data_as_df\n",
    "from hook import create_etl_last_date,insert_into_last_date\n",
    "from misc_handler import return_specs_df,extract_all_reviews\n",
    "from cleaning_dfs_handler import clean_reviews_gsm,clean_reviews_reddit,clean_specs"
   ]
  },
  {
   "cell_type": "code",
   "execution_count": 3,
   "metadata": {},
   "outputs": [],
   "source": [
    "driver = webdriver.Chrome()\n",
    "options = Options()\n",
    "options.add_argument('--headless')\n",
    "driver = webdriver.Chrome(options=options)"
   ]
  },
  {
   "cell_type": "code",
   "execution_count": null,
   "metadata": {},
   "outputs": [],
   "source": [
    "db_session=create_connection()\n",
    "create_etl_last_date('product_analyzer',db_session)\n",
    "insert_into_last_date('product_analyzer',db_session)"
   ]
  },
  {
   "cell_type": "code",
   "execution_count": 4,
   "metadata": {},
   "outputs": [],
   "source": [
    "specs_df=return_specs_df('https://www.gsmarena.com/apple_iphone_12-10509.php',driver)"
   ]
  },
  {
   "cell_type": "code",
   "execution_count": 5,
   "metadata": {},
   "outputs": [],
   "source": [
    "reviews_df=extract_all_reviews('https://www.gsmarena.com/apple_iphone_12-10509.php',driver)"
   ]
  },
  {
   "cell_type": "code",
   "execution_count": 6,
   "metadata": {},
   "outputs": [
    {
     "name": "stderr",
     "output_type": "stream",
     "text": [
      "c:\\Users\\lenovo\\Desktop\\SE_Factory\\fsd_tech_product_analyzer\\cleaning_dfs_handler.py:42: FutureWarning: The default value of regex will change from True to False in a future version. In addition, single character regular expressions will *not* be treated as literal strings when regex=True.\n",
      "  return_df.columns=return_df.columns.str.replace(\".\",\"_\")\n"
     ]
    }
   ],
   "source": [
    "\n",
    "specs_df=clean_specs(specs_df)\n",
    "reviews_df=clean_reviews_gsm(reviews_df)"
   ]
  },
  {
   "cell_type": "code",
   "execution_count": 7,
   "metadata": {},
   "outputs": [],
   "source": [
    "product_id=specs_df.iloc[0,0]"
   ]
  },
  {
   "cell_type": "code",
   "execution_count": 9,
   "metadata": {},
   "outputs": [
    {
     "name": "stderr",
     "output_type": "stream",
     "text": [
      "c:\\Users\\lenovo\\Desktop\\SE_Factory\\fsd_tech_product_analyzer\\database_handler.py:51: UserWarning: pandas only supports SQLAlchemy connectable (engine/connection) or database string URI or sqlite3 DBAPI2 connection. Other DBAPI2 objects are not tested. Please consider using SQLAlchemy.\n",
      "  return_dataframe = pd.read_sql_query(con= db_session, sql= file_executor)\n"
     ]
    }
   ],
   "source": [
    "db_session=create_connection()\n",
    "last_date_df=return_last_date(product_id,'product_analyzer',db_session)"
   ]
  },
  {
   "cell_type": "code",
   "execution_count": 17,
   "metadata": {},
   "outputs": [
    {
     "data": {
      "text/html": [
       "<div>\n",
       "<style scoped>\n",
       "    .dataframe tbody tr th:only-of-type {\n",
       "        vertical-align: middle;\n",
       "    }\n",
       "\n",
       "    .dataframe tbody tr th {\n",
       "        vertical-align: top;\n",
       "    }\n",
       "\n",
       "    .dataframe thead th {\n",
       "        text-align: right;\n",
       "    }\n",
       "</style>\n",
       "<table border=\"1\" class=\"dataframe\">\n",
       "  <thead>\n",
       "    <tr style=\"text-align: right;\">\n",
       "      <th></th>\n",
       "      <th>User_Name</th>\n",
       "      <th>Product_id</th>\n",
       "      <th>Product_Name</th>\n",
       "      <th>Date</th>\n",
       "      <th>Review_Text</th>\n",
       "    </tr>\n",
       "  </thead>\n",
       "  <tbody>\n",
       "    <tr>\n",
       "      <th>0</th>\n",
       "      <td>Exikias</td>\n",
       "      <td>10509</td>\n",
       "      <td>Apple iPhone 12</td>\n",
       "      <td>2023-10-20</td>\n",
       "      <td>prince, 18 Oct 2023\\nyes after 17.0.3 , batter...</td>\n",
       "    </tr>\n",
       "    <tr>\n",
       "      <th>1</th>\n",
       "      <td>Anonymous</td>\n",
       "      <td>10509</td>\n",
       "      <td>Apple iPhone 12</td>\n",
       "      <td>2023-10-19</td>\n",
       "      <td>Aadrian, 23 Aug 2023\\nI recently purchased an ...</td>\n",
       "    </tr>\n",
       "    <tr>\n",
       "      <th>2</th>\n",
       "      <td>prince</td>\n",
       "      <td>10509</td>\n",
       "      <td>Apple iPhone 12</td>\n",
       "      <td>2023-10-18</td>\n",
       "      <td>Umair, 06 Oct 2023\\nAnybody noticed battery li...</td>\n",
       "    </tr>\n",
       "    <tr>\n",
       "      <th>3</th>\n",
       "      <td>Adeins</td>\n",
       "      <td>10509</td>\n",
       "      <td>Apple iPhone 12</td>\n",
       "      <td>2023-10-16</td>\n",
       "      <td>Umair, 06 Oct 2023\\nAnybody noticed battery li...</td>\n",
       "    </tr>\n",
       "    <tr>\n",
       "      <th>4</th>\n",
       "      <td>Umair</td>\n",
       "      <td>10509</td>\n",
       "      <td>Apple iPhone 12</td>\n",
       "      <td>2023-10-06</td>\n",
       "      <td>Anybody noticed battery life improvement with ...</td>\n",
       "    </tr>\n",
       "    <tr>\n",
       "      <th>...</th>\n",
       "      <td>...</td>\n",
       "      <td>...</td>\n",
       "      <td>...</td>\n",
       "      <td>...</td>\n",
       "      <td>...</td>\n",
       "    </tr>\n",
       "    <tr>\n",
       "      <th>1042</th>\n",
       "      <td>Nzo HARU</td>\n",
       "      <td>10509</td>\n",
       "      <td>Apple iPhone 12</td>\n",
       "      <td>2020-10-13</td>\n",
       "      <td>This is the one to go for! The one for most pe...</td>\n",
       "    </tr>\n",
       "    <tr>\n",
       "      <th>1043</th>\n",
       "      <td>Masoud</td>\n",
       "      <td>10509</td>\n",
       "      <td>Apple iPhone 12</td>\n",
       "      <td>2020-10-13</td>\n",
       "      <td>Charger headphone 60hz 12mp notch 😄</td>\n",
       "    </tr>\n",
       "    <tr>\n",
       "      <th>1044</th>\n",
       "      <td>zack malaysia</td>\n",
       "      <td>10509</td>\n",
       "      <td>Apple iPhone 12</td>\n",
       "      <td>2020-10-13</td>\n",
       "      <td>i want buy this iphone</td>\n",
       "    </tr>\n",
       "    <tr>\n",
       "      <th>1045</th>\n",
       "      <td>agofcl</td>\n",
       "      <td>10509</td>\n",
       "      <td>Apple iPhone 12</td>\n",
       "      <td>2020-10-13</td>\n",
       "      <td>It's the perfect phone IMO, neither small like...</td>\n",
       "    </tr>\n",
       "    <tr>\n",
       "      <th>1046</th>\n",
       "      <td>uraverageintrovert</td>\n",
       "      <td>10509</td>\n",
       "      <td>Apple iPhone 12</td>\n",
       "      <td>2020-10-13</td>\n",
       "      <td>i thought the 12 series will be capable of rec...</td>\n",
       "    </tr>\n",
       "  </tbody>\n",
       "</table>\n",
       "<p>1046 rows × 5 columns</p>\n",
       "</div>"
      ],
      "text/plain": [
       "               User_Name  ...                                        Review_Text\n",
       "0                Exikias  ...  prince, 18 Oct 2023\\nyes after 17.0.3 , batter...\n",
       "1              Anonymous  ...  Aadrian, 23 Aug 2023\\nI recently purchased an ...\n",
       "2                 prince  ...  Umair, 06 Oct 2023\\nAnybody noticed battery li...\n",
       "3                 Adeins  ...  Umair, 06 Oct 2023\\nAnybody noticed battery li...\n",
       "4                  Umair  ...  Anybody noticed battery life improvement with ...\n",
       "...                  ...  ...                                                ...\n",
       "1042            Nzo HARU  ...  This is the one to go for! The one for most pe...\n",
       "1043              Masoud  ...                Charger headphone 60hz 12mp notch 😄\n",
       "1044       zack malaysia  ...                             i want buy this iphone\n",
       "1045              agofcl  ...  It's the perfect phone IMO, neither small like...\n",
       "1046  uraverageintrovert  ...  i thought the 12 series will be capable of rec...\n",
       "\n",
       "[1046 rows x 5 columns]"
      ]
     },
     "execution_count": 17,
     "metadata": {},
     "output_type": "execute_result"
    }
   ],
   "source": [
    "reviews_df"
   ]
  },
  {
   "cell_type": "code",
   "execution_count": 26,
   "metadata": {},
   "outputs": [],
   "source": [
    "if len(last_date_df)>0:\n",
    "        reviews_gsm_df=reviews_gsm_df.loc[(reviews_gsm_df['Date']>pd.to_datetime(last_date_df.iloc[0,0]))]"
   ]
  },
  {
   "cell_type": "code",
   "execution_count": 27,
   "metadata": {},
   "outputs": [
    {
     "data": {
      "text/html": [
       "<div>\n",
       "<style scoped>\n",
       "    .dataframe tbody tr th:only-of-type {\n",
       "        vertical-align: middle;\n",
       "    }\n",
       "\n",
       "    .dataframe tbody tr th {\n",
       "        vertical-align: top;\n",
       "    }\n",
       "\n",
       "    .dataframe thead th {\n",
       "        text-align: right;\n",
       "    }\n",
       "</style>\n",
       "<table border=\"1\" class=\"dataframe\">\n",
       "  <thead>\n",
       "    <tr style=\"text-align: right;\">\n",
       "      <th></th>\n",
       "      <th>User_Name</th>\n",
       "      <th>Product_id</th>\n",
       "      <th>Product_Name</th>\n",
       "      <th>Date</th>\n",
       "      <th>Review_Text</th>\n",
       "    </tr>\n",
       "  </thead>\n",
       "  <tbody>\n",
       "    <tr>\n",
       "      <th>0</th>\n",
       "      <td>Exikias</td>\n",
       "      <td>10509</td>\n",
       "      <td>Apple iPhone 12</td>\n",
       "      <td>2023-10-20</td>\n",
       "      <td>prince, 18 Oct 2023\\nyes after 17.0.3 , batter...</td>\n",
       "    </tr>\n",
       "    <tr>\n",
       "      <th>1</th>\n",
       "      <td>Anonymous</td>\n",
       "      <td>10509</td>\n",
       "      <td>Apple iPhone 12</td>\n",
       "      <td>2023-10-19</td>\n",
       "      <td>Aadrian, 23 Aug 2023\\nI recently purchased an ...</td>\n",
       "    </tr>\n",
       "    <tr>\n",
       "      <th>2</th>\n",
       "      <td>prince</td>\n",
       "      <td>10509</td>\n",
       "      <td>Apple iPhone 12</td>\n",
       "      <td>2023-10-18</td>\n",
       "      <td>Umair, 06 Oct 2023\\nAnybody noticed battery li...</td>\n",
       "    </tr>\n",
       "    <tr>\n",
       "      <th>3</th>\n",
       "      <td>Adeins</td>\n",
       "      <td>10509</td>\n",
       "      <td>Apple iPhone 12</td>\n",
       "      <td>2023-10-16</td>\n",
       "      <td>Umair, 06 Oct 2023\\nAnybody noticed battery li...</td>\n",
       "    </tr>\n",
       "  </tbody>\n",
       "</table>\n",
       "</div>"
      ],
      "text/plain": [
       "   User_Name  ...                                        Review_Text\n",
       "0    Exikias  ...  prince, 18 Oct 2023\\nyes after 17.0.3 , batter...\n",
       "1  Anonymous  ...  Aadrian, 23 Aug 2023\\nI recently purchased an ...\n",
       "2     prince  ...  Umair, 06 Oct 2023\\nAnybody noticed battery li...\n",
       "3     Adeins  ...  Umair, 06 Oct 2023\\nAnybody noticed battery li...\n",
       "\n",
       "[4 rows x 5 columns]"
      ]
     },
     "execution_count": 27,
     "metadata": {},
     "output_type": "execute_result"
    }
   ],
   "source": [
    "reviews_gsm_df"
   ]
  }
 ],
 "metadata": {
  "kernelspec": {
   "display_name": "se_pl_analysis_env",
   "language": "python",
   "name": "python3"
  },
  "language_info": {
   "codemirror_mode": {
    "name": "ipython",
    "version": 3
   },
   "file_extension": ".py",
   "mimetype": "text/x-python",
   "name": "python",
   "nbconvert_exporter": "python",
   "pygments_lexer": "ipython3",
   "version": "3.10.9"
  }
 },
 "nbformat": 4,
 "nbformat_minor": 2
}
