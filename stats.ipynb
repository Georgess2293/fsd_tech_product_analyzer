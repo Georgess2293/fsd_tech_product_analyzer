{
 "cells": [
  {
   "cell_type": "code",
   "execution_count": 1,
   "metadata": {},
   "outputs": [],
   "source": [
    "from selenium import webdriver\n",
    "from selenium.webdriver.chrome.options import Options\n",
    "from selenium.webdriver.support.ui import WebDriverWait\n",
    "from selenium.webdriver.support import expected_conditions as EC\n",
    "from selenium.webdriver.common.by import By\n",
    "from selenium.webdriver.common.keys import Keys\n",
    "from selenium.common.exceptions import TimeoutException,WebDriverException\n",
    "from selenium.webdriver.common.action_chains import ActionChains\n",
    "import pandas as pd"
   ]
  },
  {
   "cell_type": "code",
   "execution_count": 2,
   "metadata": {},
   "outputs": [],
   "source": [
    "driver = webdriver.Chrome()\n",
    "options = Options()\n",
    "options.add_argument('--headless')\n",
    "driver = webdriver.Chrome(options=options)"
   ]
  },
  {
   "cell_type": "code",
   "execution_count": null,
   "metadata": {},
   "outputs": [],
   "source": [
    "from misc_handler import return_sales_per_year_prehook"
   ]
  },
  {
   "cell_type": "code",
   "execution_count": null,
   "metadata": {},
   "outputs": [],
   "source": [
    "sales_df=return_sales_per_year_prehook(driver)"
   ]
  },
  {
   "cell_type": "code",
   "execution_count": 3,
   "metadata": {},
   "outputs": [],
   "source": [
    "from database_handler import create_connection\n",
    "from prehook import create_sql_staging_tables_sales\n",
    "from hook import insert_sales_stg"
   ]
  },
  {
   "cell_type": "code",
   "execution_count": 4,
   "metadata": {},
   "outputs": [
    {
     "name": "stdout",
     "output_type": "stream",
     "text": [
      "Year: 2022, URL: https://www.sellcell.com/how-many-mobile-phones-are-sold-each-year/#byManufacturer2022\n",
      "Year: 2021, URL: https://www.sellcell.com/how-many-mobile-phones-are-sold-each-year/#byManufacturer2021\n",
      "Year: 2020, URL: https://www.sellcell.com/how-many-mobile-phones-are-sold-each-year/#byManufacturer2020\n",
      "Year: 2019, URL: https://www.sellcell.com/how-many-mobile-phones-are-sold-each-year/#byManufacturer2019\n",
      "Year: 2018, URL: https://www.sellcell.com/how-many-mobile-phones-are-sold-each-year/#byManufacturer2018\n",
      "Year: 2017, URL: https://www.sellcell.com/how-many-mobile-phones-are-sold-each-year/#byManufacturer2017\n",
      "Year: 2016, URL: https://www.sellcell.com/how-many-mobile-phones-are-sold-each-year/#byManufacturer2016\n",
      "Year: 2015, URL: https://www.sellcell.com/how-many-mobile-phones-are-sold-each-year/#byManufacturer2015\n",
      "Year: 2014, URL: https://www.sellcell.com/how-many-mobile-phones-are-sold-each-year/#byManufacturer2014\n",
      "Year: 2013, URL: https://www.sellcell.com/how-many-mobile-phones-are-sold-each-year/#byManufacturer2013\n",
      "Year: 2012, URL: https://www.sellcell.com/how-many-mobile-phones-are-sold-each-year/#byManufacturer2012\n",
      "Year: 2011, URL: https://www.sellcell.com/how-many-mobile-phones-are-sold-each-year/#byManufacturer2011\n",
      "Year: 2010, URL: https://www.sellcell.com/how-many-mobile-phones-are-sold-each-year/#byManufacturer2010\n",
      "Year: 2009, URL: https://www.sellcell.com/how-many-mobile-phones-are-sold-each-year/#byManufacturer2009\n",
      "Year: 2008, URL: https://www.sellcell.com/how-many-mobile-phones-are-sold-each-year/#byManufacturer2008\n",
      "Year: 2007, URL: https://www.sellcell.com/how-many-mobile-phones-are-sold-each-year/#byManufacturer2007\n"
     ]
    }
   ],
   "source": [
    "db_session=create_connection()\n",
    "insert_sales_stg(db_session,driver)"
   ]
  }
 ],
 "metadata": {
  "kernelspec": {
   "display_name": "se_pl_analysis_env",
   "language": "python",
   "name": "python3"
  },
  "language_info": {
   "codemirror_mode": {
    "name": "ipython",
    "version": 3
   },
   "file_extension": ".py",
   "mimetype": "text/x-python",
   "name": "python",
   "nbconvert_exporter": "python",
   "pygments_lexer": "ipython3",
   "version": "3.10.9"
  }
 },
 "nbformat": 4,
 "nbformat_minor": 2
}
