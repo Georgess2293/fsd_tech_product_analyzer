{
 "cells": [
  {
   "cell_type": "code",
   "execution_count": null,
   "metadata": {},
   "outputs": [],
   "source": [
    "from database_handler import return_data_as_df,create_connection\n",
    "import pandas as pd"
   ]
  },
  {
   "cell_type": "code",
   "execution_count": null,
   "metadata": {},
   "outputs": [],
   "source": [
    "from selenium import webdriver\n",
    "from selenium.webdriver.chrome.options import Options\n",
    "from selenium.webdriver.support.ui import WebDriverWait\n",
    "from selenium.webdriver.support import expected_conditions as EC\n",
    "from selenium.webdriver.common.by import By\n",
    "from selenium.webdriver.common.keys import Keys\n",
    "from selenium.common.exceptions import TimeoutException,WebDriverException\n",
    "from selenium.webdriver.common.action_chains import ActionChains"
   ]
  },
  {
   "cell_type": "code",
   "execution_count": null,
   "metadata": {},
   "outputs": [],
   "source": []
  },
  {
   "cell_type": "code",
   "execution_count": null,
   "metadata": {},
   "outputs": [],
   "source": [
    "from lookups import InputTypes"
   ]
  },
  {
   "cell_type": "code",
   "execution_count": null,
   "metadata": {},
   "outputs": [],
   "source": [
    "from database_handler import close_connection,execute_query\n",
    "from prehook import create_sql_staging_tables_prices"
   ]
  },
  {
   "cell_type": "code",
   "execution_count": null,
   "metadata": {},
   "outputs": [],
   "source": [
    "options=Options()\n",
    "options.add_argument('--headless')\n",
    "driver = webdriver.Chrome(options=options)\n",
    "# db_session = create_connection()\n",
    "# create_sql_staging_tables_prices(db_session=db_session,driver=driver)\n"
   ]
  },
  {
   "cell_type": "code",
   "execution_count": null,
   "metadata": {},
   "outputs": [],
   "source": [
    "#driver = webdriver.Chrome()\n",
    "options=Options()\n",
    "options.add_argument('--headless')\n",
    "driver = webdriver.Chrome(options=options)"
   ]
  },
  {
   "cell_type": "code",
   "execution_count": null,
   "metadata": {},
   "outputs": [],
   "source": [
    "driver.get('https://www.gsmarena.com/apple_iphone_12-10509.php')"
   ]
  },
  {
   "cell_type": "code",
   "execution_count": null,
   "metadata": {},
   "outputs": [],
   "source": [
    "from hook import execute_hook\n",
    "execute_hook('Apple Iphone 12')"
   ]
  },
  {
   "cell_type": "code",
   "execution_count": null,
   "metadata": {},
   "outputs": [],
   "source": [
    "from misc_handler import extract_all_reviews,return_prices_df,convert_currency_df\n",
    "from cleaning_dfs_handler import clean_prices"
   ]
  },
  {
   "cell_type": "code",
   "execution_count": null,
   "metadata": {},
   "outputs": [],
   "source": [
    "reviews_gsm_df=extract_all_reviews('https://www.gsmarena.com/apple_iphone_12-10509.php',driver)"
   ]
  },
  {
   "cell_type": "code",
   "execution_count": null,
   "metadata": {},
   "outputs": [],
   "source": [
    "prices_df=return_prices_df('https://www.gsmarena.com/apple_iphone_12-10509.php',driver)"
   ]
  },
  {
   "cell_type": "code",
   "execution_count": null,
   "metadata": {},
   "outputs": [],
   "source": [
    "prices_df=convert_currency_df(prices_df)"
   ]
  },
  {
   "cell_type": "code",
   "execution_count": null,
   "metadata": {},
   "outputs": [],
   "source": [
    "prices_f=clean_prices(prices_df)"
   ]
  },
  {
   "cell_type": "code",
   "execution_count": null,
   "metadata": {},
   "outputs": [],
   "source": [
    "from database_handler import return_insert_into_sql_statement_from_df\n",
    "insert_stmt_prices=return_insert_into_sql_statement_from_df(prices_f,'stg_products_prices1')\n",
    "db_session=create_connection()"
   ]
  },
  {
   "cell_type": "code",
   "execution_count": null,
   "metadata": {},
   "outputs": [],
   "source": [
    "for insert in insert_stmt_prices:\n",
    "        execute_query(db_session=db_session,query=insert)"
   ]
  },
  {
   "cell_type": "code",
   "execution_count": null,
   "metadata": {},
   "outputs": [],
   "source": [
    "from prehook import execute_prehook\n",
    "from hook import execute_hook"
   ]
  },
  {
   "cell_type": "code",
   "execution_count": null,
   "metadata": {},
   "outputs": [],
   "source": [
    "execute_prehook()\n",
    "execute_hook('Google Pixel 8 pro')"
   ]
  },
  {
   "cell_type": "code",
   "execution_count": null,
   "metadata": {},
   "outputs": [],
   "source": [
    "from hook import execute_hook_sql\n"
   ]
  },
  {
   "cell_type": "code",
   "execution_count": null,
   "metadata": {},
   "outputs": [],
   "source": [
    "db_session=create_connection()"
   ]
  },
  {
   "cell_type": "code",
   "execution_count": null,
   "metadata": {},
   "outputs": [],
   "source": [
    "execute_hook_sql(db_session,'./SQL_Commands')"
   ]
  },
  {
   "cell_type": "code",
   "execution_count": null,
   "metadata": {},
   "outputs": [],
   "source": [
    "from lookups import staging_tables\n",
    "tables=[]\n",
    "for table in staging_tables:\n",
    "    tables.append(table.value)"
   ]
  },
  {
   "cell_type": "code",
   "execution_count": null,
   "metadata": {},
   "outputs": [],
   "source": [
    "from posthook import execute_posthook\n",
    "execute_posthook()"
   ]
  },
  {
   "cell_type": "code",
   "execution_count": 1,
   "metadata": {},
   "outputs": [],
   "source": [
    "from main import etl_job"
   ]
  },
  {
   "cell_type": "code",
   "execution_count": 2,
   "metadata": {},
   "outputs": [
    {
     "name": "stdout",
     "output_type": "stream",
     "text": [
      "Start time:  11:46PM on October 26, 2023\n",
      "Prehook\n",
      "11:46PM on October 26, 2023  step: 1  executing prehook sql file\n",
      "11:46PM on October 26, 2023  step: 2  creating reviews staging table\n",
      "11:47PM on October 26, 2023  step: 3  creating reviews 2nd staging table\n",
      "11:47PM on October 26, 2023  step: 4  creating specs staging table\n",
      "step: 5\n",
      "\"None of [Index(['_128GB_8GB_RAM', '_128GB_6GB_RAM', '_256GB_8GB_RAM', '_128GB_12GB_RAM',\\n       '_512GB_16GB_RAM', '_256GB_12GB_RAM', '_32GB_3GB_RAM', '_64GB_4GB_RAM',\\n       '_128GB_4GB_RAM', '_512GB_12GB_RAM', '_64GB_6GB_RAM', '_256GB_6GB_RAM',\\n       '_512GB_6GB_RAM', '_256GB_4GB_RAM', '_512GB_4GB_RAM', '_512GB_8GB_RAM'],\\n      dtype='object')] are in the [columns]\"\n",
      "11:47PM on October 26, 2023  step: 5  creating prices staging table\n",
      "11:47PM on October 26, 2023  step: 5  prehook finished\n"
     ]
    },
    {
     "name": "stderr",
     "output_type": "stream",
     "text": [
      "c:\\Users\\lenovo\\Desktop\\SE_Factory\\fsd_tech_product_analyzer\\cleaning_dfs_handler.py:42: FutureWarning: The default value of regex will change from True to False in a future version. In addition, single character regular expressions will *not* be treated as literal strings when regex=True.\n",
      "  return_df.columns=return_df.columns.str.replace(\".\",\"_\")\n"
     ]
    },
    {
     "name": "stdout",
     "output_type": "stream",
     "text": [
      "11:47PM on October 26, 2023  step: 1  creating etl last update table 1\n",
      "11:47PM on October 26, 2023  step: 2  creating etl last update table 2\n",
      "11:47PM on October 26, 2023  step: 3  returning product url\n",
      "11:47PM on October 26, 2023  step: 4  inserting staging tables\n"
     ]
    },
    {
     "name": "stderr",
     "output_type": "stream",
     "text": [
      "c:\\Users\\lenovo\\Desktop\\SE_Factory\\fsd_tech_product_analyzer\\cleaning_dfs_handler.py:42: FutureWarning: The default value of regex will change from True to False in a future version. In addition, single character regular expressions will *not* be treated as literal strings when regex=True.\n",
      "  return_df.columns=return_df.columns.str.replace(\".\",\"_\")\n",
      "c:\\Users\\lenovo\\Desktop\\SE_Factory\\fsd_tech_product_analyzer\\database_handler.py:51: UserWarning: pandas only supports SQLAlchemy connectable (engine/connection) or database string URI or sqlite3 DBAPI2 connection. Other DBAPI2 objects are not tested. Please consider using SQLAlchemy.\n",
      "  return_dataframe = pd.read_sql_query(con= db_session, sql= file_executor)\n",
      "c:\\Users\\lenovo\\Desktop\\SE_Factory\\fsd_tech_product_analyzer\\database_handler.py:51: UserWarning: pandas only supports SQLAlchemy connectable (engine/connection) or database string URI or sqlite3 DBAPI2 connection. Other DBAPI2 objects are not tested. Please consider using SQLAlchemy.\n",
      "  return_dataframe = pd.read_sql_query(con= db_session, sql= file_executor)\n"
     ]
    },
    {
     "ename": "TypeError",
     "evalue": "argument of type 'float' is not iterable",
     "output_type": "error",
     "traceback": [
      "\u001b[1;31m---------------------------------------------------------------------------\u001b[0m",
      "\u001b[1;31mTypeError\u001b[0m                                 Traceback (most recent call last)",
      "\u001b[1;32mc:\\Users\\lenovo\\Desktop\\SE_Factory\\fsd_tech_product_analyzer\\tables_backup.ipynb Cell 25\u001b[0m line \u001b[0;36m1\n\u001b[1;32m----> <a href='vscode-notebook-cell:/c%3A/Users/lenovo/Desktop/SE_Factory/fsd_tech_product_analyzer/tables_backup.ipynb#X34sZmlsZQ%3D%3D?line=0'>1</a>\u001b[0m etl_job(\u001b[39m'\u001b[39;49m\u001b[39mXiaomi 13T Pro\u001b[39;49m\u001b[39m'\u001b[39;49m)\n",
      "File \u001b[1;32mc:\\Users\\lenovo\\Desktop\\SE_Factory\\fsd_tech_product_analyzer\\main.py:11\u001b[0m, in \u001b[0;36metl_job\u001b[1;34m(input_text)\u001b[0m\n\u001b[0;32m      9\u001b[0m \u001b[39mprint\u001b[39m(\u001b[39m\"\u001b[39m\u001b[39mStart time: \u001b[39m\u001b[39m\"\u001b[39m,datetime\u001b[39m.\u001b[39mdatetime\u001b[39m.\u001b[39mnow()\u001b[39m.\u001b[39mstrftime(\u001b[39m\"\u001b[39m\u001b[39m%\u001b[39m\u001b[39mI:\u001b[39m\u001b[39m%\u001b[39m\u001b[39mM\u001b[39m\u001b[39m%\u001b[39m\u001b[39mp on \u001b[39m\u001b[39m%\u001b[39m\u001b[39mB \u001b[39m\u001b[39m%d\u001b[39;00m\u001b[39m, \u001b[39m\u001b[39m%\u001b[39m\u001b[39mY\u001b[39m\u001b[39m\"\u001b[39m))\n\u001b[0;32m     10\u001b[0m prehook\u001b[39m.\u001b[39mexecute_prehook()\n\u001b[1;32m---> 11\u001b[0m hook\u001b[39m.\u001b[39;49mexecute_hook(input_text)\n\u001b[0;32m     12\u001b[0m posthook\u001b[39m.\u001b[39mexecute_posthook()\n\u001b[0;32m     13\u001b[0m \u001b[39mprint\u001b[39m(\u001b[39m\"\u001b[39m\u001b[39mStart time: \u001b[39m\u001b[39m\"\u001b[39m,datetime\u001b[39m.\u001b[39mdatetime\u001b[39m.\u001b[39mnow()\u001b[39m.\u001b[39mstrftime(\u001b[39m\"\u001b[39m\u001b[39m%\u001b[39m\u001b[39mI:\u001b[39m\u001b[39m%\u001b[39m\u001b[39mM\u001b[39m\u001b[39m%\u001b[39m\u001b[39mp on \u001b[39m\u001b[39m%\u001b[39m\u001b[39mB \u001b[39m\u001b[39m%d\u001b[39;00m\u001b[39m, \u001b[39m\u001b[39m%\u001b[39m\u001b[39mY\u001b[39m\u001b[39m\"\u001b[39m))\n",
      "File \u001b[1;32mc:\\Users\\lenovo\\Desktop\\SE_Factory\\fsd_tech_product_analyzer\\hook.py:183\u001b[0m, in \u001b[0;36mexecute_hook\u001b[1;34m(input_text, sql_command_directory_path)\u001b[0m\n\u001b[0;32m    181\u001b[0m step_name\u001b[39m=\u001b[39m\u001b[39m4\u001b[39m\n\u001b[0;32m    182\u001b[0m \u001b[39mprint\u001b[39m(datetime\u001b[39m.\u001b[39mnow()\u001b[39m.\u001b[39mstrftime(\u001b[39m\"\u001b[39m\u001b[39m%\u001b[39m\u001b[39mI:\u001b[39m\u001b[39m%\u001b[39m\u001b[39mM\u001b[39m\u001b[39m%\u001b[39m\u001b[39mp on \u001b[39m\u001b[39m%\u001b[39m\u001b[39mB \u001b[39m\u001b[39m%d\u001b[39;00m\u001b[39m, \u001b[39m\u001b[39m%\u001b[39m\u001b[39mY\u001b[39m\u001b[39m\"\u001b[39m),\u001b[39m\"\u001b[39m\u001b[39m step:\u001b[39m\u001b[39m\"\u001b[39m,step_name,\u001b[39m\"\u001b[39m\u001b[39m inserting staging tables\u001b[39m\u001b[39m\"\u001b[39m)\n\u001b[1;32m--> 183\u001b[0m insert_into_stg(db_session,driver,url,reddit,DESTINATION_SCHEMA\u001b[39m.\u001b[39;49mDESTINATION_NAME\u001b[39m.\u001b[39;49mvalue)\n\u001b[0;32m    184\u001b[0m driver\u001b[39m.\u001b[39mquit()\n\u001b[0;32m    185\u001b[0m step_name\u001b[39m=\u001b[39m\u001b[39m6\u001b[39m\n",
      "File \u001b[1;32mc:\\Users\\lenovo\\Desktop\\SE_Factory\\fsd_tech_product_analyzer\\hook.py:131\u001b[0m, in \u001b[0;36minsert_into_stg\u001b[1;34m(db_session, driver, url, reddit, schema_name)\u001b[0m\n\u001b[0;32m    129\u001b[0m all_reviews_reddit\u001b[39m=\u001b[39mmisc_handler\u001b[39m.\u001b[39msentiment_analysis_df(all_reviews_reddit)\n\u001b[0;32m    130\u001b[0m prices_df\u001b[39m=\u001b[39mmisc_handler\u001b[39m.\u001b[39mreturn_prices_df(url,driver)\n\u001b[1;32m--> 131\u001b[0m prices_df\u001b[39m=\u001b[39mcleaning_dfs_handler\u001b[39m.\u001b[39;49mclean_prices(prices_df)\n\u001b[0;32m    132\u001b[0m prices_df\u001b[39m=\u001b[39mmisc_handler\u001b[39m.\u001b[39mconvert_currency_df(prices_df)\n\u001b[0;32m    133\u001b[0m insert_stmt_specs\u001b[39m=\u001b[39mreturn_insert_into_sql_statement_from_df(specs_df,\u001b[39m'\u001b[39m\u001b[39mstg_products_specs1\u001b[39m\u001b[39m'\u001b[39m)\n",
      "File \u001b[1;32mc:\\Users\\lenovo\\Desktop\\SE_Factory\\fsd_tech_product_analyzer\\cleaning_dfs_handler.py:53\u001b[0m, in \u001b[0;36mclean_prices\u001b[1;34m(df)\u001b[0m\n\u001b[0;32m     51\u001b[0m columns\u001b[39m=\u001b[39m\u001b[39mlist\u001b[39m(all_prices\u001b[39m.\u001b[39mcolumns)\n\u001b[0;32m     52\u001b[0m \u001b[39mfor\u001b[39;00m col \u001b[39min\u001b[39;00m columns:\n\u001b[1;32m---> 53\u001b[0m     \u001b[39mif\u001b[39;00m \u001b[39m'\u001b[39;49m\u001b[39mUnnamed\u001b[39;49m\u001b[39m'\u001b[39;49m \u001b[39min\u001b[39;49;00m col:\n\u001b[0;32m     54\u001b[0m         all_prices\u001b[39m.\u001b[39mdrop(columns\u001b[39m=\u001b[39mcol, inplace\u001b[39m=\u001b[39m\u001b[39mTrue\u001b[39;00m)\n\u001b[0;32m     55\u001b[0m     \u001b[39mif\u001b[39;00m \u001b[39m'\u001b[39m\u001b[39mTests\u001b[39m\u001b[39m'\u001b[39m \u001b[39min\u001b[39;00m col:\n",
      "\u001b[1;31mTypeError\u001b[0m: argument of type 'float' is not iterable"
     ]
    }
   ],
   "source": [
    "etl_job('Xiaomi 13T Pro')"
   ]
  }
 ],
 "metadata": {
  "kernelspec": {
   "display_name": "se_pl_analysis_env",
   "language": "python",
   "name": "python3"
  },
  "language_info": {
   "codemirror_mode": {
    "name": "ipython",
    "version": 3
   },
   "file_extension": ".py",
   "mimetype": "text/x-python",
   "name": "python",
   "nbconvert_exporter": "python",
   "pygments_lexer": "ipython3",
   "version": "3.10.9"
  }
 },
 "nbformat": 4,
 "nbformat_minor": 2
}
