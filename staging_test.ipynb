{
 "cells": [
  {
   "cell_type": "code",
   "execution_count": null,
   "metadata": {},
   "outputs": [],
   "source": [
    "from selenium import webdriver\n",
    "from selenium.webdriver.chrome.options import Options\n",
    "from selenium.webdriver.support.ui import WebDriverWait\n",
    "from selenium.webdriver.support import expected_conditions as EC\n",
    "from selenium.webdriver.common.by import By\n",
    "from selenium.webdriver.common.keys import Keys\n",
    "from selenium.common.exceptions import TimeoutException\n",
    "from selenium.webdriver.common.action_chains import ActionChains\n",
    "from misc_handler import return_specs_df,extract_reviews_from_page,extract_all_reviews,scrape_amazon_reviews_df,extract_reddit_comments,return_all_specs_df,return_all_reviews_df,return_all_reddit_df,return_all_amazon_df,return_all_specs_update_df,return_stg_specs_df,return_stg_specs_exception_df,return_tables_from_url,return_tables_reviews_from_url\n",
    "from lookups import first_time,product_url"
   ]
  },
  {
   "cell_type": "code",
   "execution_count": null,
   "metadata": {},
   "outputs": [],
   "source": [
    "results_df=return_all_specs_update_df('https://www.gsmarena.com/makers.php3')"
   ]
  },
  {
   "cell_type": "code",
   "execution_count": null,
   "metadata": {},
   "outputs": [],
   "source": [
    "results_df"
   ]
  },
  {
   "cell_type": "code",
   "execution_count": null,
   "metadata": {},
   "outputs": [],
   "source": [
    "test=results_df.iloc[5:6,:].reset_index()\n",
    "test"
   ]
  },
  {
   "cell_type": "code",
   "execution_count": null,
   "metadata": {},
   "outputs": [],
   "source": [
    "import praw\n",
    "reddit=praw.Reddit(\n",
    "    client_id=\"A99udy2Ex7RaoBzW5O3Gdw\",\n",
    "    client_secret=\"jOKXzOzOe9sk-wn-i5a7c4I4zdac4w\",\n",
    "    user_agent=\"my-tech\"\n",
    ")\n",
    "\n",
    "reddit_df=return_all_reddit_df(results_df,reddit)"
   ]
  },
  {
   "cell_type": "code",
   "execution_count": null,
   "metadata": {},
   "outputs": [],
   "source": [
    "reddit_df"
   ]
  },
  {
   "cell_type": "code",
   "execution_count": null,
   "metadata": {},
   "outputs": [],
   "source": [
    "acer"
   ]
  },
  {
   "cell_type": "code",
   "execution_count": null,
   "metadata": {},
   "outputs": [],
   "source": [
    "for product_link in product_links[:3]:\n",
    "            # Get the URL for the product page\n",
    "            product_url = product_link.get_attribute('href')\n",
    "            print(f\"Extracting data for product:  ({product_url})\")"
   ]
  },
  {
   "cell_type": "code",
   "execution_count": null,
   "metadata": {},
   "outputs": [],
   "source": [
    "driver = webdriver.Chrome()\n",
    "options = Options()\n",
    "#options.add_argument('--headless')\n",
    "driver = webdriver.Chrome(options=options)"
   ]
  },
  {
   "cell_type": "code",
   "execution_count": null,
   "metadata": {},
   "outputs": [],
   "source": [
    "reviews_alcatel=extract_all_reviews('https://www.gsmarena.com/alcatel_1b_(2022)-11706.php',driver)"
   ]
  },
  {
   "cell_type": "code",
   "execution_count": null,
   "metadata": {},
   "outputs": [],
   "source": [
    "reviews_alcatel"
   ]
  },
  {
   "cell_type": "code",
   "execution_count": null,
   "metadata": {},
   "outputs": [],
   "source": [
    "url='https://www.gsmarena.com/alcatel_1b_(2022)-reviews-11706p2.php'"
   ]
  },
  {
   "cell_type": "code",
   "execution_count": null,
   "metadata": {},
   "outputs": [],
   "source": [
    "url.split('-reviews-')[1].split('p')[0]"
   ]
  },
  {
   "cell_type": "code",
   "execution_count": null,
   "metadata": {},
   "outputs": [],
   "source": [
    "reviews_df=return_all_amazon_df(test)"
   ]
  },
  {
   "cell_type": "code",
   "execution_count": null,
   "metadata": {},
   "outputs": [],
   "source": [
    "reviews_df"
   ]
  },
  {
   "cell_type": "code",
   "execution_count": null,
   "metadata": {},
   "outputs": [],
   "source": [
    "driver = webdriver.Chrome()\n",
    "options=Options()\n",
    "options.add_argument('--headless')\n",
    "driver = webdriver.Chrome(options=options)\n"
   ]
  },
  {
   "cell_type": "code",
   "execution_count": null,
   "metadata": {},
   "outputs": [],
   "source": [
    "stg_product_4_df,stg_reviews_4_df=return_stg_specs_exception_df(driver)"
   ]
  },
  {
   "cell_type": "code",
   "execution_count": null,
   "metadata": {},
   "outputs": [],
   "source": [
    "stg_product_3_df.to_csv('stg_product_3.csv', index=False)\n",
    "stg_reviews_3_df.to_csv('stg_reviews_gsm_3.csv', index=False)"
   ]
  },
  {
   "cell_type": "code",
   "execution_count": null,
   "metadata": {},
   "outputs": [],
   "source": [
    "stg_reviews_3_df"
   ]
  },
  {
   "cell_type": "code",
   "execution_count": null,
   "metadata": {},
   "outputs": [],
   "source": [
    "stg_product_df.to_csv('stg_product.csv', index=False)\n",
    "stg_reviews_df.to_csv('stg_reviews_gsm.csv', index=False)"
   ]
  },
  {
   "cell_type": "code",
   "execution_count": null,
   "metadata": {},
   "outputs": [],
   "source": [
    "import pandas as pd\n",
    "# stg_samsung=pd.read_csv('stg_product.csv')\n",
    "# stg_reviews_gsm_samsung=pd.read_csv('stg_reviews_gsm.csv')"
   ]
  },
  {
   "cell_type": "code",
   "execution_count": null,
   "metadata": {},
   "outputs": [],
   "source": [
    "stg_product_df=pd.read_csv('stg_product.csv')\n",
    "stg_product_2_df=pd.read_csv('stg_product_2.csv')\n",
    "stg_product_3_df=pd.read_csv('stg_product_3.csv')"
   ]
  },
  {
   "cell_type": "code",
   "execution_count": null,
   "metadata": {},
   "outputs": [],
   "source": [
    "stg_product=pd.concat([stg_product_df,stg_product_2_df,stg_product_3_df],axis=0,ignore_index=True)"
   ]
  },
  {
   "cell_type": "code",
   "execution_count": null,
   "metadata": {},
   "outputs": [],
   "source": [
    "stg_product.to_csv('stg_products.csv',index=False)"
   ]
  },
  {
   "cell_type": "code",
   "execution_count": null,
   "metadata": {},
   "outputs": [],
   "source": [
    "stg_reviews_gsm_df=pd.read_csv('stg_reviews_gsm.csv')\n",
    "stg_reviews_gsm_2_df=pd.read_csv('stg_reviews_gsm_2.csv')\n",
    "stg_reviews_gsm_3_df=pd.read_csv('stg_reviews_gsm_3.csv')"
   ]
  },
  {
   "cell_type": "code",
   "execution_count": null,
   "metadata": {},
   "outputs": [],
   "source": [
    "stg_reviews_gsm_all=pd.concat([stg_reviews_gsm_df,stg_reviews_gsm_2_df,stg_reviews_gsm_3_df],axis=0,ignore_index=True)"
   ]
  },
  {
   "cell_type": "code",
   "execution_count": null,
   "metadata": {},
   "outputs": [],
   "source": [
    "stg_reviews_gsm_all.to_csv('stg_reviews_gsm_all.csv',index=False)"
   ]
  },
  {
   "cell_type": "code",
   "execution_count": null,
   "metadata": {},
   "outputs": [],
   "source": [
    "stg_product"
   ]
  },
  {
   "cell_type": "code",
   "execution_count": null,
   "metadata": {},
   "outputs": [],
   "source": [
    "import praw\n",
    "reddit=praw.Reddit(\n",
    "    client_id=\"A99udy2Ex7RaoBzW5O3Gdw\",\n",
    "    client_secret=\"jOKXzOzOe9sk-wn-i5a7c4I4zdac4w\",\n",
    "    user_agent=\"my-tech\"\n",
    ")"
   ]
  },
  {
   "cell_type": "code",
   "execution_count": null,
   "metadata": {},
   "outputs": [],
   "source": [
    "stg_reviews_reddit=return_all_reddit_df(stg_product,reddit=reddit)"
   ]
  },
  {
   "cell_type": "code",
   "execution_count": null,
   "metadata": {},
   "outputs": [],
   "source": [
    "pd"
   ]
  },
  {
   "cell_type": "code",
   "execution_count": null,
   "metadata": {},
   "outputs": [],
   "source": [
    "stg_reviews_reddit.to_csv('stg_reviews_reddit.csv')"
   ]
  },
  {
   "cell_type": "code",
   "execution_count": null,
   "metadata": {},
   "outputs": [],
   "source": [
    "staging_products=pd.read_csv('stg_products.csv')"
   ]
  },
  {
   "cell_type": "code",
   "execution_count": null,
   "metadata": {},
   "outputs": [],
   "source": [
    "\n",
    "pd.set_option('display.max_columns', None)\n",
    "pd.set_option('display.max_rows', None)"
   ]
  },
  {
   "cell_type": "code",
   "execution_count": null,
   "metadata": {},
   "outputs": [],
   "source": [
    "staging_products['Launch_Announced']=pd.to_datetime(staging_products['Launch_Announced'])"
   ]
  },
  {
   "cell_type": "code",
   "execution_count": null,
   "metadata": {},
   "outputs": [],
   "source": [
    "staging_products"
   ]
  },
  {
   "cell_type": "code",
   "execution_count": null,
   "metadata": {},
   "outputs": [],
   "source": [
    "from cleaning_dfs_handler import clean_reviews_reddit,clean_reviews_gsm,clean_specs\n",
    "from misc_handler import sentiment_analysis_df"
   ]
  },
  {
   "cell_type": "code",
   "execution_count": null,
   "metadata": {},
   "outputs": [],
   "source": [
    "import pandas as pd\n",
    "stg_gsm=pd.read_csv('stg_reviews_gsm_all.csv')"
   ]
  },
  {
   "cell_type": "code",
   "execution_count": null,
   "metadata": {},
   "outputs": [],
   "source": [
    "stg_gsm.columns"
   ]
  },
  {
   "cell_type": "code",
   "execution_count": null,
   "metadata": {},
   "outputs": [],
   "source": [
    "stg_gsm=clean_reviews_gsm(stg_gsm)"
   ]
  },
  {
   "cell_type": "code",
   "execution_count": null,
   "metadata": {},
   "outputs": [],
   "source": [
    "stg_gsm=sentiment_analysis_df(stg_gsm)"
   ]
  },
  {
   "cell_type": "code",
   "execution_count": null,
   "metadata": {},
   "outputs": [],
   "source": [
    "stg_gsm"
   ]
  },
  {
   "cell_type": "code",
   "execution_count": null,
   "metadata": {},
   "outputs": [],
   "source": [
    "from datetime import datetime\n",
    "def replace_date(x):\n",
    "    if \"ago\" in x:\n",
    "        return datetime.now()\n",
    "    else:\n",
    "        return x"
   ]
  },
  {
   "cell_type": "code",
   "execution_count": null,
   "metadata": {},
   "outputs": [],
   "source": [
    "stg_reddit['Date']=stg_reddit['Date'].apply(replace_date)"
   ]
  },
  {
   "cell_type": "code",
   "execution_count": null,
   "metadata": {},
   "outputs": [],
   "source": [
    "stg_reddit['Date']=pd.to_datetime(stg_reddit['Date'])"
   ]
  },
  {
   "cell_type": "code",
   "execution_count": null,
   "metadata": {},
   "outputs": [],
   "source": [
    "stg_reddit['Date']=timestamp.strftime('%Y-%m-%d %H:%M:%S')"
   ]
  },
  {
   "cell_type": "code",
   "execution_count": null,
   "metadata": {},
   "outputs": [],
   "source": [
    "import pandas as pd\n",
    "specs=pd.read_csv('stg_products.csv')"
   ]
  },
  {
   "cell_type": "code",
   "execution_count": null,
   "metadata": {},
   "outputs": [],
   "source": [
    "specs"
   ]
  },
  {
   "cell_type": "code",
   "execution_count": null,
   "metadata": {},
   "outputs": [],
   "source": [
    "specs=clean_specs(specs)"
   ]
  },
  {
   "cell_type": "code",
   "execution_count": null,
   "metadata": {},
   "outputs": [],
   "source": [
    "driver = webdriver.Chrome()\n",
    "options=Options()\n",
    "options.add_argument('--headless')\n",
    "driver = webdriver.Chrome(options=options)"
   ]
  },
  {
   "cell_type": "code",
   "execution_count": null,
   "metadata": {},
   "outputs": [],
   "source": [
    "staging_spec2=return_specs_df('https://www.gsmarena.com/oneplus_11-11893.php',driver)"
   ]
  },
  {
   "cell_type": "code",
   "execution_count": null,
   "metadata": {},
   "outputs": [],
   "source": [
    "staging_spec2"
   ]
  },
  {
   "cell_type": "code",
   "execution_count": null,
   "metadata": {},
   "outputs": [],
   "source": [
    "staging_spec=return_specs_df(first_time.specs_url.value,driver)"
   ]
  },
  {
   "cell_type": "code",
   "execution_count": null,
   "metadata": {},
   "outputs": [],
   "source": [
    "staging_spec=return_specs_df('https://www.gsmarena.com/lg_w41-10744.php',driver)"
   ]
  },
  {
   "cell_type": "code",
   "execution_count": null,
   "metadata": {},
   "outputs": [],
   "source": [
    "staging_spec"
   ]
  },
  {
   "cell_type": "code",
   "execution_count": null,
   "metadata": {},
   "outputs": [],
   "source": [
    "url='https://www.gsmarena.com/oneplus_11-11893.php'\n",
    "driver.get(url)\n",
    "product_id=url.split('-')[1].split('.')[0]\n",
    "list_df=pd.read_html(driver.page_source)\n",
    "return_df = pd.concat(list_df, ignore_index=True)\n",
    "return_df=return_df"
   ]
  },
  {
   "cell_type": "code",
   "execution_count": null,
   "metadata": {},
   "outputs": [],
   "source": [
    "import pandas as pd"
   ]
  },
  {
   "cell_type": "code",
   "execution_count": null,
   "metadata": {},
   "outputs": [],
   "source": [
    "all_results = pd.concat([staging_spec2, staging_spec], axis=0, ignore_index=True)"
   ]
  },
  {
   "cell_type": "code",
   "execution_count": null,
   "metadata": {},
   "outputs": [],
   "source": [
    "all_results"
   ]
  },
  {
   "cell_type": "code",
   "execution_count": null,
   "metadata": {},
   "outputs": [],
   "source": [
    "staging_spec=return_specs_df('https://www.gsmarena.com/lg_w41-10744.php',driver)"
   ]
  },
  {
   "cell_type": "code",
   "execution_count": null,
   "metadata": {},
   "outputs": [],
   "source": [
    "staging_spec.columns"
   ]
  },
  {
   "cell_type": "code",
   "execution_count": null,
   "metadata": {},
   "outputs": [],
   "source": [
    "staging_spec.drop(columns='Main_Camera_Quad',inplace=True)"
   ]
  },
  {
   "cell_type": "code",
   "execution_count": null,
   "metadata": {},
   "outputs": [],
   "source": [
    "from database_handler import return_insert_into_sql_statement_from_df,execute_query,create_connection\n",
    "from cleaning_dfs_handler import clean_specs"
   ]
  },
  {
   "cell_type": "code",
   "execution_count": null,
   "metadata": {},
   "outputs": [],
   "source": [
    "staging_spec=clean_specs(staging_spec)\n",
    "insert_stmt=return_insert_into_sql_statement_from_df(staging_spec,'stg_products_specs')"
   ]
  },
  {
   "cell_type": "code",
   "execution_count": null,
   "metadata": {},
   "outputs": [],
   "source": [
    "\n",
    "db_session=create_connection()\n",
    "for insert in insert_stmt:\n",
    "    # print(insert)\n",
    "    execute_query(db_session=db_session,query=insert)\n",
    " "
   ]
  },
  {
   "cell_type": "code",
   "execution_count": null,
   "metadata": {},
   "outputs": [],
   "source": [
    "import pandas as pd\n",
    "specs_test=pd.read_csv('stg_products.csv')"
   ]
  },
  {
   "cell_type": "code",
   "execution_count": null,
   "metadata": {},
   "outputs": [],
   "source": [
    "pd.set_option('display.max_columns', None)\n",
    "col=list(specs_test.columns)"
   ]
  },
  {
   "cell_type": "code",
   "execution_count": null,
   "metadata": {},
   "outputs": [],
   "source": [
    "staging_specs = pd.DataFrame(columns=col)\n",
    "staging_specs=clean_specs(staging_specs)"
   ]
  },
  {
   "cell_type": "code",
   "execution_count": null,
   "metadata": {},
   "outputs": [],
   "source": [
    "staging_specs.dtypes"
   ]
  },
  {
   "cell_type": "code",
   "execution_count": null,
   "metadata": {},
   "outputs": [],
   "source": [
    "import pandas as pd\n",
    "stg_product=pd.read_csv('stg_products.csv')\n",
    "stg_gsm=pd.read_csv('stg_reviews_gsm_all_new.csv')\n",
    "stg_reddit=pd.read_csv('stg_reviews_reddit_new.csv')\n"
   ]
  },
  {
   "cell_type": "code",
   "execution_count": null,
   "metadata": {},
   "outputs": [],
   "source": [
    "stg_product.duplicated('product_id').value_counts()"
   ]
  },
  {
   "cell_type": "code",
   "execution_count": null,
   "metadata": {},
   "outputs": [],
   "source": [
    "stg_gsm=pd.read_csv('stg_reviews_gsm_all_new.csv')\n",
    "stg_gsm.drop_duplicates(inplace=True)"
   ]
  },
  {
   "cell_type": "code",
   "execution_count": null,
   "metadata": {},
   "outputs": [],
   "source": [
    "stg_gsm"
   ]
  },
  {
   "cell_type": "code",
   "execution_count": null,
   "metadata": {},
   "outputs": [],
   "source": [
    "db_session=create_connection()"
   ]
  },
  {
   "cell_type": "code",
   "execution_count": null,
   "metadata": {},
   "outputs": [],
   "source": [
    "stg_gsm.duplicated().value_counts()"
   ]
  },
  {
   "cell_type": "code",
   "execution_count": null,
   "metadata": {},
   "outputs": [],
   "source": [
    "stg_gsm"
   ]
  },
  {
   "cell_type": "code",
   "execution_count": null,
   "metadata": {},
   "outputs": [],
   "source": [
    "stg_gsm.drop_duplicates(inplace=True)"
   ]
  },
  {
   "cell_type": "code",
   "execution_count": null,
   "metadata": {},
   "outputs": [],
   "source": [
    "from cleaning_dfs_handler import clean_reviews_gsm\n",
    "from database_handler import return_insert_into_sql_statement_from_df,execute_query\n",
    "#stg_gsm=clean_reviews_gsm(stg_gsm)\n",
    "insert_stmt_reviews=return_insert_into_sql_statement_from_df(stg_gsm,'stg_gsm_reviews')\n",
    "for insert in insert_stmt_reviews:\n",
    "        execute_query(db_session=db_session,query=insert)"
   ]
  },
  {
   "cell_type": "code",
   "execution_count": null,
   "metadata": {},
   "outputs": [],
   "source": [
    "driver = webdriver.Chrome()\n",
    "options=Options()\n",
    "options.add_argument('--headless')\n",
    "driver = webdriver.Chrome(options=options)\n",
    "\n",
    "\n",
    "from hook import insert_specs_gsm_reviews_stg\n",
    "from database_handler import create_connection\n",
    "import praw\n",
    "reddit=praw.Reddit(\n",
    "        client_id=\"A99udy2Ex7RaoBzW5O3Gdw\",\n",
    "        client_secret=\"jOKXzOzOe9sk-wn-i5a7c4I4zdac4w\",\n",
    "        user_agent=\"my-tech\"\n",
    "    )\n",
    "db_session=create_connection()\n",
    "insert_specs_gsm_reviews_stg(db_session=db_session,reddit=reddit,driver=driver,all_specs=stg_product,all_reviews=stg_gsm,all_reviews_reddit=stg_reddit)\n"
   ]
  },
  {
   "cell_type": "code",
   "execution_count": null,
   "metadata": {},
   "outputs": [],
   "source": [
    "driver = webdriver.Chrome()\n",
    "options=Options()\n",
    "options.add_argument('--headless')\n",
    "driver = webdriver.Chrome(options=options)\n",
    "stg_apple_google,stg_apple_google_prices=return_tables_from_url(driver)"
   ]
  },
  {
   "cell_type": "code",
   "execution_count": null,
   "metadata": {},
   "outputs": [],
   "source": [
    "stg_apple_google_prices"
   ]
  },
  {
   "cell_type": "code",
   "execution_count": null,
   "metadata": {},
   "outputs": [],
   "source": [
    "stg_apple_google.to_csv('stg_apple_products.csv',index=False)\n",
    "stg_apple_google_prices.to_csv('stg_apple_prices.csv',index=False)"
   ]
  },
  {
   "cell_type": "code",
   "execution_count": null,
   "metadata": {},
   "outputs": [],
   "source": [
    "driver = webdriver.Chrome()\n",
    "options=Options()\n",
    "options.add_argument('--headless')\n",
    "driver = webdriver.Chrome(options=options)\n",
    "stg_apple_google_reviews=return_tables_reviews_from_url(driver)"
   ]
  },
  {
   "cell_type": "code",
   "execution_count": null,
   "metadata": {},
   "outputs": [],
   "source": [
    "stg_apple_google_reviews.to_csv('stg_apple_reviews_gsm.csv',index=False)"
   ]
  },
  {
   "cell_type": "code",
   "execution_count": null,
   "metadata": {},
   "outputs": [],
   "source": [
    "import pandas as pd\n",
    "stg_samsung_prices=pd.read_csv('stg_samsung_prices.csv')\n",
    "stg_samsung_apple_prices=pd.read_csv('stg_apple_prices.csv')\n",
    "\n"
   ]
  },
  {
   "cell_type": "code",
   "execution_count": null,
   "metadata": {},
   "outputs": [],
   "source": [
    "stg_all_prices=pd.concat([stg_samsung_prices,stg_samsung_apple_prices],axis=0,ignore_index=True)"
   ]
  },
  {
   "cell_type": "code",
   "execution_count": null,
   "metadata": {},
   "outputs": [],
   "source": [
    "stg_all_prices.to_csv('stg_all_prices.csv',index=False)"
   ]
  },
  {
   "cell_type": "code",
   "execution_count": null,
   "metadata": {},
   "outputs": [],
   "source": [
    "import pandas as pd\n",
    "from hook import insert_specs_gsm_reviews_stg\n",
    "import praw\n",
    "reddit=praw.Reddit(\n",
    "            client_id=\"A99udy2Ex7RaoBzW5O3Gdw\",\n",
    "            client_secret=\"jOKXzOzOe9sk-wn-i5a7c4I4zdac4w\",\n",
    "            user_agent=\"my-tech\"\n",
    "        )\n",
    "stg_all_products=pd.read_csv('stg_all_products.csv')\n",
    "stg_all_gsm_reviews=pd.read_csv('stg_all_gsm_reviews.csv')"
   ]
  },
  {
   "cell_type": "code",
   "execution_count": null,
   "metadata": {},
   "outputs": [],
   "source": [
    "driver = webdriver.Chrome()\n",
    "options=Options()\n",
    "options.add_argument('--headless')\n",
    "driver = webdriver.Chrome(options=options)\n",
    "stg_all_prices_2=return_tables_from_url(driver)"
   ]
  },
  {
   "cell_type": "code",
   "execution_count": null,
   "metadata": {},
   "outputs": [],
   "source": [
    "stg_all_prices_2.to_csv('stg_all_prices2.csv',index=False)"
   ]
  },
  {
   "cell_type": "code",
   "execution_count": null,
   "metadata": {},
   "outputs": [],
   "source": [
    "stg_all_prices_2"
   ]
  },
  {
   "cell_type": "code",
   "execution_count": null,
   "metadata": {},
   "outputs": [],
   "source": [
    "import pandas as pd\n",
    "stg_all_prices=pd.read_csv('stg_all_prices.csv')\n",
    "stg_all_prices_2=pd.read_csv('stg_all_prices2.csv')"
   ]
  },
  {
   "cell_type": "code",
   "execution_count": null,
   "metadata": {},
   "outputs": [],
   "source": [
    "stg_all_prices_2"
   ]
  },
  {
   "cell_type": "code",
   "execution_count": null,
   "metadata": {},
   "outputs": [],
   "source": [
    "all_prices=pd.concat([stg_all_prices,stg_all_prices_2],axis=0,ignore_index=True)"
   ]
  },
  {
   "cell_type": "code",
   "execution_count": null,
   "metadata": {},
   "outputs": [],
   "source": [
    "pd.set_option('display.max_columns',None)"
   ]
  },
  {
   "cell_type": "code",
   "execution_count": null,
   "metadata": {},
   "outputs": [],
   "source": [
    "all_prices.to_csv('stg_all_prices.csv',index=None)"
   ]
  },
  {
   "cell_type": "code",
   "execution_count": null,
   "metadata": {},
   "outputs": [],
   "source": [
    "all_prices.reset_index()"
   ]
  },
  {
   "cell_type": "code",
   "execution_count": null,
   "metadata": {},
   "outputs": [],
   "source": [
    "columns=list(all_prices.columns)\n",
    "all_prices.drop(columns='Tests', inplace=True)\n",
    "all_prices.drop(columns='Misc', inplace=True)\n",
    "for col in columns:\n",
    "    if 'Unnamed' in col:\n",
    "        all_prices.drop(columns=col, inplace=True)\n",
    "\n",
    "\n",
    "    "
   ]
  },
  {
   "cell_type": "code",
   "execution_count": null,
   "metadata": {},
   "outputs": [],
   "source": [
    "import pandas as pd\n",
    "all_prices=pd.read_csv('stg_all_prices.csv')"
   ]
  },
  {
   "cell_type": "code",
   "execution_count": null,
   "metadata": {},
   "outputs": [],
   "source": [
    "from cleaning_dfs_handler import clean_prices\n",
    "all_prices=clean_prices(all_prices)"
   ]
  },
  {
   "cell_type": "code",
   "execution_count": null,
   "metadata": {},
   "outputs": [],
   "source": [
    "all_prices.columns=['product_id', '_128GB_8GB_RAM', '_128GB_6GB_RAM', '_256GB_8GB_RAM',\n",
    "       '_128GB_12GB_RAM', '_512GB_16GB_RAM', '_256GB_12GB_RAM', '_32GB_3GB_RAM',\n",
    "       '_64GB_4GB_RAM', '_128GB_4GB_RAM', '_512GB_12GB_RAM', '_64GB_6GB_RAM',\n",
    "       '_256GB_6GB_RAM', '_512GB_6GB_RAM', '_256GB_4GB_RAM', '_512GB_4GB_RAM',\n",
    "       '_512GB_8GB_RAM']"
   ]
  },
  {
   "cell_type": "code",
   "execution_count": null,
   "metadata": {},
   "outputs": [],
   "source": [
    "all_prices"
   ]
  },
  {
   "cell_type": "code",
   "execution_count": null,
   "metadata": {},
   "outputs": [],
   "source": [
    "all_prices"
   ]
  },
  {
   "cell_type": "code",
   "execution_count": null,
   "metadata": {},
   "outputs": [],
   "source": [
    "from misc_handler import convert_currency_df\n"
   ]
  },
  {
   "cell_type": "code",
   "execution_count": null,
   "metadata": {},
   "outputs": [],
   "source": [
    "all_prices=convert_currency_df(all_prices)"
   ]
  },
  {
   "cell_type": "code",
   "execution_count": null,
   "metadata": {},
   "outputs": [],
   "source": [
    "from prehook import create_sql_staging_tables_prices\n",
    "from database_handler import create_connection,return_insert_into_sql_statement_from_df\n",
    "db_session=create_connection()\n",
    "# driver = webdriver.Chrome()\n",
    "# options=Options()\n",
    "# options.add_argument('--headless')\n",
    "# driver = webdriver.Chrome(options=options)\n"
   ]
  },
  {
   "cell_type": "code",
   "execution_count": null,
   "metadata": {},
   "outputs": [],
   "source": [
    "create_sql_staging_tables_prices(db_session=db_session,driver=driver)"
   ]
  },
  {
   "cell_type": "code",
   "execution_count": null,
   "metadata": {},
   "outputs": [],
   "source": [
    "all_prices"
   ]
  },
  {
   "cell_type": "code",
   "execution_count": null,
   "metadata": {},
   "outputs": [],
   "source": [
    "from database_handler import return_insert_into_sql_statement_from_df,execute_query\n",
    "insert_stmt_reviews=return_insert_into_sql_statement_from_df(all_prices,'stg_products_prices')\n",
    "for insert in insert_stmt_reviews:\n",
    "    #print(insert)\n",
    "    execute_query(db_session=db_session,query=insert)\n",
    "    "
   ]
  }
 ],
 "metadata": {
  "kernelspec": {
   "display_name": "se_pl_analysis_env",
   "language": "python",
   "name": "python3"
  },
  "language_info": {
   "codemirror_mode": {
    "name": "ipython",
    "version": 3
   },
   "file_extension": ".py",
   "mimetype": "text/x-python",
   "name": "python",
   "nbconvert_exporter": "python",
   "pygments_lexer": "ipython3",
   "version": "3.10.9"
  }
 },
 "nbformat": 4,
 "nbformat_minor": 2
}
