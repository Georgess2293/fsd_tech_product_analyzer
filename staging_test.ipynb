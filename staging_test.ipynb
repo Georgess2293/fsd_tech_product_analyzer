{
 "cells": [
  {
   "cell_type": "code",
   "execution_count": 1,
   "metadata": {},
   "outputs": [],
   "source": [
    "from selenium import webdriver\n",
    "from selenium.webdriver.chrome.options import Options\n",
    "from selenium.webdriver.support.ui import WebDriverWait\n",
    "from selenium.webdriver.support import expected_conditions as EC\n",
    "from selenium.webdriver.common.by import By\n",
    "from selenium.webdriver.common.keys import Keys\n",
    "from selenium.common.exceptions import TimeoutException\n",
    "from selenium.webdriver.common.action_chains import ActionChains\n",
    "from misc_handler import return_specs_df,extract_reviews_from_page,extract_all_reviews,scrape_amazon_reviews_df,extract_reddit_comments,return_all_specs_df,return_all_reviews_df,return_all_reddit_df,return_all_amazon_df,return_all_specs_update_df,return_stg_specs_df,return_stg_specs_exception_df\n",
    "from lookups import first_time"
   ]
  },
  {
   "cell_type": "code",
   "execution_count": null,
   "metadata": {},
   "outputs": [],
   "source": [
    "results_df=return_all_specs_update_df('https://www.gsmarena.com/makers.php3')"
   ]
  },
  {
   "cell_type": "code",
   "execution_count": null,
   "metadata": {},
   "outputs": [],
   "source": [
    "results_df"
   ]
  },
  {
   "cell_type": "code",
   "execution_count": null,
   "metadata": {},
   "outputs": [],
   "source": [
    "test=results_df.iloc[5:6,:].reset_index()\n",
    "test"
   ]
  },
  {
   "cell_type": "code",
   "execution_count": null,
   "metadata": {},
   "outputs": [],
   "source": [
    "import praw\n",
    "reddit=praw.Reddit(\n",
    "    client_id=\"A99udy2Ex7RaoBzW5O3Gdw\",\n",
    "    client_secret=\"jOKXzOzOe9sk-wn-i5a7c4I4zdac4w\",\n",
    "    user_agent=\"my-tech\"\n",
    ")\n",
    "\n",
    "reddit_df=return_all_reddit_df(results_df,reddit)"
   ]
  },
  {
   "cell_type": "code",
   "execution_count": null,
   "metadata": {},
   "outputs": [],
   "source": [
    "reddit_df"
   ]
  },
  {
   "cell_type": "code",
   "execution_count": null,
   "metadata": {},
   "outputs": [],
   "source": [
    "acer"
   ]
  },
  {
   "cell_type": "code",
   "execution_count": null,
   "metadata": {},
   "outputs": [],
   "source": [
    "for product_link in product_links[:3]:\n",
    "            # Get the URL for the product page\n",
    "            product_url = product_link.get_attribute('href')\n",
    "            print(f\"Extracting data for product:  ({product_url})\")"
   ]
  },
  {
   "cell_type": "code",
   "execution_count": null,
   "metadata": {},
   "outputs": [],
   "source": [
    "driver = webdriver.Chrome()\n",
    "options = Options()\n",
    "#options.add_argument('--headless')\n",
    "driver = webdriver.Chrome(options=options)"
   ]
  },
  {
   "cell_type": "code",
   "execution_count": null,
   "metadata": {},
   "outputs": [],
   "source": [
    "reviews_alcatel=extract_all_reviews('https://www.gsmarena.com/alcatel_1b_(2022)-11706.php',driver)"
   ]
  },
  {
   "cell_type": "code",
   "execution_count": null,
   "metadata": {},
   "outputs": [],
   "source": [
    "reviews_alcatel"
   ]
  },
  {
   "cell_type": "code",
   "execution_count": null,
   "metadata": {},
   "outputs": [],
   "source": [
    "url='https://www.gsmarena.com/alcatel_1b_(2022)-reviews-11706p2.php'"
   ]
  },
  {
   "cell_type": "code",
   "execution_count": null,
   "metadata": {},
   "outputs": [],
   "source": [
    "url.split('-reviews-')[1].split('p')[0]"
   ]
  },
  {
   "cell_type": "code",
   "execution_count": null,
   "metadata": {},
   "outputs": [],
   "source": [
    "reviews_df=return_all_amazon_df(test)"
   ]
  },
  {
   "cell_type": "code",
   "execution_count": null,
   "metadata": {},
   "outputs": [],
   "source": [
    "reviews_df"
   ]
  },
  {
   "cell_type": "code",
   "execution_count": null,
   "metadata": {},
   "outputs": [],
   "source": [
    "driver = webdriver.Chrome()\n",
    "options=Options()\n",
    "options.add_argument('--headless')\n",
    "driver = webdriver.Chrome(options=options)\n"
   ]
  },
  {
   "cell_type": "code",
   "execution_count": null,
   "metadata": {},
   "outputs": [],
   "source": [
    "stg_product_4_df,stg_reviews_4_df=return_stg_specs_exception_df(driver)"
   ]
  },
  {
   "cell_type": "code",
   "execution_count": null,
   "metadata": {},
   "outputs": [],
   "source": [
    "stg_product_3_df.to_csv('stg_product_3.csv', index=False)\n",
    "stg_reviews_3_df.to_csv('stg_reviews_gsm_3.csv', index=False)"
   ]
  },
  {
   "cell_type": "code",
   "execution_count": null,
   "metadata": {},
   "outputs": [],
   "source": [
    "stg_reviews_3_df"
   ]
  },
  {
   "cell_type": "code",
   "execution_count": null,
   "metadata": {},
   "outputs": [],
   "source": [
    "stg_product_df.to_csv('stg_product.csv', index=False)\n",
    "stg_reviews_df.to_csv('stg_reviews_gsm.csv', index=False)"
   ]
  },
  {
   "cell_type": "code",
   "execution_count": null,
   "metadata": {},
   "outputs": [],
   "source": [
    "import pandas as pd\n",
    "# stg_samsung=pd.read_csv('stg_product.csv')\n",
    "# stg_reviews_gsm_samsung=pd.read_csv('stg_reviews_gsm.csv')"
   ]
  },
  {
   "cell_type": "code",
   "execution_count": null,
   "metadata": {},
   "outputs": [],
   "source": [
    "stg_product_df=pd.read_csv('stg_product.csv')\n",
    "stg_product_2_df=pd.read_csv('stg_product_2.csv')\n",
    "stg_product_3_df=pd.read_csv('stg_product_3.csv')"
   ]
  },
  {
   "cell_type": "code",
   "execution_count": null,
   "metadata": {},
   "outputs": [],
   "source": [
    "stg_product=pd.concat([stg_product_df,stg_product_2_df,stg_product_3_df],axis=0,ignore_index=True)"
   ]
  },
  {
   "cell_type": "code",
   "execution_count": null,
   "metadata": {},
   "outputs": [],
   "source": [
    "stg_product.to_csv('stg_products.csv',index=False)"
   ]
  },
  {
   "cell_type": "code",
   "execution_count": null,
   "metadata": {},
   "outputs": [],
   "source": [
    "stg_reviews_gsm_df=pd.read_csv('stg_reviews_gsm.csv')\n",
    "stg_reviews_gsm_2_df=pd.read_csv('stg_reviews_gsm_2.csv')\n",
    "stg_reviews_gsm_3_df=pd.read_csv('stg_reviews_gsm_3.csv')"
   ]
  },
  {
   "cell_type": "code",
   "execution_count": null,
   "metadata": {},
   "outputs": [],
   "source": [
    "stg_reviews_gsm_all=pd.concat([stg_reviews_gsm_df,stg_reviews_gsm_2_df,stg_reviews_gsm_3_df],axis=0,ignore_index=True)"
   ]
  },
  {
   "cell_type": "code",
   "execution_count": null,
   "metadata": {},
   "outputs": [],
   "source": [
    "stg_reviews_gsm_all.to_csv('stg_reviews_gsm_all.csv',index=False)"
   ]
  },
  {
   "cell_type": "code",
   "execution_count": null,
   "metadata": {},
   "outputs": [],
   "source": [
    "stg_product"
   ]
  },
  {
   "cell_type": "code",
   "execution_count": null,
   "metadata": {},
   "outputs": [],
   "source": [
    "import praw\n",
    "reddit=praw.Reddit(\n",
    "    client_id=\"A99udy2Ex7RaoBzW5O3Gdw\",\n",
    "    client_secret=\"jOKXzOzOe9sk-wn-i5a7c4I4zdac4w\",\n",
    "    user_agent=\"my-tech\"\n",
    ")"
   ]
  },
  {
   "cell_type": "code",
   "execution_count": null,
   "metadata": {},
   "outputs": [],
   "source": [
    "stg_reviews_reddit=return_all_reddit_df(stg_product,reddit=reddit)"
   ]
  },
  {
   "cell_type": "code",
   "execution_count": null,
   "metadata": {},
   "outputs": [],
   "source": [
    "pd"
   ]
  },
  {
   "cell_type": "code",
   "execution_count": null,
   "metadata": {},
   "outputs": [],
   "source": [
    "stg_reviews_reddit.to_csv('stg_reviews_reddit.csv')"
   ]
  },
  {
   "cell_type": "code",
   "execution_count": null,
   "metadata": {},
   "outputs": [],
   "source": [
    "staging_products=pd.read_csv('stg_products.csv')"
   ]
  },
  {
   "cell_type": "code",
   "execution_count": null,
   "metadata": {},
   "outputs": [],
   "source": [
    "\n",
    "pd.set_option('display.max_columns', None)\n",
    "pd.set_option('display.max_rows', None)"
   ]
  },
  {
   "cell_type": "code",
   "execution_count": null,
   "metadata": {},
   "outputs": [],
   "source": [
    "staging_products['Launch_Announced']=pd.to_datetime(staging_products['Launch_Announced'])"
   ]
  },
  {
   "cell_type": "code",
   "execution_count": null,
   "metadata": {},
   "outputs": [],
   "source": [
    "staging_products"
   ]
  },
  {
   "cell_type": "code",
   "execution_count": null,
   "metadata": {},
   "outputs": [],
   "source": [
    "from cleaning_dfs_handler import clean_reviews_reddit,clean_reviews_gsm,clean_specs\n",
    "from misc_handler import sentiment_analysis_df"
   ]
  },
  {
   "cell_type": "code",
   "execution_count": null,
   "metadata": {},
   "outputs": [],
   "source": [
    "import pandas as pd\n",
    "stg_gsm=pd.read_csv('stg_reviews_gsm_all.csv')"
   ]
  },
  {
   "cell_type": "code",
   "execution_count": null,
   "metadata": {},
   "outputs": [],
   "source": [
    "stg_gsm.columns"
   ]
  },
  {
   "cell_type": "code",
   "execution_count": null,
   "metadata": {},
   "outputs": [],
   "source": [
    "stg_gsm=clean_reviews_gsm(stg_gsm)"
   ]
  },
  {
   "cell_type": "code",
   "execution_count": null,
   "metadata": {},
   "outputs": [],
   "source": [
    "stg_gsm=sentiment_analysis_df(stg_gsm)"
   ]
  },
  {
   "cell_type": "code",
   "execution_count": null,
   "metadata": {},
   "outputs": [],
   "source": [
    "stg_gsm"
   ]
  },
  {
   "cell_type": "code",
   "execution_count": null,
   "metadata": {},
   "outputs": [],
   "source": [
    "from datetime import datetime\n",
    "def replace_date(x):\n",
    "    if \"ago\" in x:\n",
    "        return datetime.now()\n",
    "    else:\n",
    "        return x"
   ]
  },
  {
   "cell_type": "code",
   "execution_count": null,
   "metadata": {},
   "outputs": [],
   "source": [
    "stg_reddit['Date']=stg_reddit['Date'].apply(replace_date)"
   ]
  },
  {
   "cell_type": "code",
   "execution_count": null,
   "metadata": {},
   "outputs": [],
   "source": [
    "stg_reddit['Date']=pd.to_datetime(stg_reddit['Date'])"
   ]
  },
  {
   "cell_type": "code",
   "execution_count": null,
   "metadata": {},
   "outputs": [],
   "source": [
    "stg_reddit['Date']=timestamp.strftime('%Y-%m-%d %H:%M:%S')"
   ]
  },
  {
   "cell_type": "code",
   "execution_count": null,
   "metadata": {},
   "outputs": [],
   "source": [
    "import pandas as pd\n",
    "specs=pd.read_csv('stg_products.csv')"
   ]
  },
  {
   "cell_type": "code",
   "execution_count": null,
   "metadata": {},
   "outputs": [],
   "source": [
    "specs"
   ]
  },
  {
   "cell_type": "code",
   "execution_count": null,
   "metadata": {},
   "outputs": [],
   "source": [
    "specs=clean_specs(specs)"
   ]
  },
  {
   "cell_type": "code",
   "execution_count": null,
   "metadata": {},
   "outputs": [],
   "source": [
    "driver = webdriver.Chrome()\n",
    "options=Options()\n",
    "options.add_argument('--headless')\n",
    "driver = webdriver.Chrome(options=options)"
   ]
  },
  {
   "cell_type": "code",
   "execution_count": null,
   "metadata": {},
   "outputs": [],
   "source": [
    "staging_spec2=return_specs_df('https://www.gsmarena.com/oneplus_11-11893.php',driver)"
   ]
  },
  {
   "cell_type": "code",
   "execution_count": null,
   "metadata": {},
   "outputs": [],
   "source": [
    "staging_spec2"
   ]
  },
  {
   "cell_type": "code",
   "execution_count": null,
   "metadata": {},
   "outputs": [],
   "source": [
    "staging_spec=return_specs_df(first_time.specs_url.value,driver)"
   ]
  },
  {
   "cell_type": "code",
   "execution_count": null,
   "metadata": {},
   "outputs": [],
   "source": [
    "staging_spec=return_specs_df('https://www.gsmarena.com/lg_w41-10744.php',driver)"
   ]
  },
  {
   "cell_type": "code",
   "execution_count": null,
   "metadata": {},
   "outputs": [],
   "source": [
    "staging_spec"
   ]
  },
  {
   "cell_type": "code",
   "execution_count": null,
   "metadata": {},
   "outputs": [],
   "source": [
    "url='https://www.gsmarena.com/oneplus_11-11893.php'\n",
    "driver.get(url)\n",
    "product_id=url.split('-')[1].split('.')[0]\n",
    "list_df=pd.read_html(driver.page_source)\n",
    "return_df = pd.concat(list_df, ignore_index=True)\n",
    "return_df=return_df"
   ]
  },
  {
   "cell_type": "code",
   "execution_count": null,
   "metadata": {},
   "outputs": [],
   "source": [
    "import pandas as pd"
   ]
  },
  {
   "cell_type": "code",
   "execution_count": null,
   "metadata": {},
   "outputs": [],
   "source": [
    "all_results = pd.concat([staging_spec2, staging_spec], axis=0, ignore_index=True)"
   ]
  },
  {
   "cell_type": "code",
   "execution_count": null,
   "metadata": {},
   "outputs": [],
   "source": [
    "all_results"
   ]
  },
  {
   "cell_type": "code",
   "execution_count": null,
   "metadata": {},
   "outputs": [],
   "source": [
    "staging_spec=return_specs_df('https://www.gsmarena.com/lg_w41-10744.php',driver)"
   ]
  },
  {
   "cell_type": "code",
   "execution_count": null,
   "metadata": {},
   "outputs": [],
   "source": [
    "staging_spec.columns"
   ]
  },
  {
   "cell_type": "code",
   "execution_count": null,
   "metadata": {},
   "outputs": [],
   "source": [
    "staging_spec.drop(columns='Main_Camera_Quad',inplace=True)"
   ]
  },
  {
   "cell_type": "code",
   "execution_count": null,
   "metadata": {},
   "outputs": [],
   "source": [
    "from database_handler import return_insert_into_sql_statement_from_df,execute_query,create_connection\n",
    "from cleaning_dfs_handler import clean_specs"
   ]
  },
  {
   "cell_type": "code",
   "execution_count": null,
   "metadata": {},
   "outputs": [],
   "source": [
    "staging_spec=clean_specs(staging_spec)\n",
    "insert_stmt=return_insert_into_sql_statement_from_df(staging_spec,'stg_products_specs')"
   ]
  },
  {
   "cell_type": "code",
   "execution_count": null,
   "metadata": {},
   "outputs": [],
   "source": [
    "\n",
    "db_session=create_connection()\n",
    "for insert in insert_stmt:\n",
    "    # print(insert)\n",
    "    execute_query(db_session=db_session,query=insert)\n",
    " "
   ]
  },
  {
   "cell_type": "code",
   "execution_count": null,
   "metadata": {},
   "outputs": [],
   "source": [
    "import pandas as pd\n",
    "specs_test=pd.read_csv('stg_products.csv')"
   ]
  },
  {
   "cell_type": "code",
   "execution_count": null,
   "metadata": {},
   "outputs": [],
   "source": [
    "pd.set_option('display.max_columns', None)\n",
    "col=list(specs_test.columns)"
   ]
  },
  {
   "cell_type": "code",
   "execution_count": null,
   "metadata": {},
   "outputs": [],
   "source": [
    "staging_specs = pd.DataFrame(columns=col)\n",
    "staging_specs=clean_specs(staging_specs)"
   ]
  },
  {
   "cell_type": "code",
   "execution_count": null,
   "metadata": {},
   "outputs": [],
   "source": [
    "staging_specs.dtypes"
   ]
  },
  {
   "cell_type": "code",
   "execution_count": 23,
   "metadata": {},
   "outputs": [],
   "source": [
    "import pandas as pd\n",
    "stg_product=pd.read_csv('stg_products.csv')\n",
    "stg_gsm=pd.read_csv('stg_reviews_gsm_all_new.csv')\n",
    "stg_reddit=pd.read_csv('stg_reviews_reddit_new.csv')\n"
   ]
  },
  {
   "cell_type": "code",
   "execution_count": 57,
   "metadata": {},
   "outputs": [
    {
     "data": {
      "text/plain": [
       "False    46\n",
       "dtype: int64"
      ]
     },
     "execution_count": 57,
     "metadata": {},
     "output_type": "execute_result"
    }
   ],
   "source": [
    "stg_product.duplicated('product_id').value_counts()"
   ]
  },
  {
   "cell_type": "code",
   "execution_count": 31,
   "metadata": {},
   "outputs": [],
   "source": [
    "stg_gsm=pd.read_csv('stg_reviews_gsm_all_new.csv')\n",
    "stg_gsm.drop_duplicates(inplace=True)"
   ]
  },
  {
   "cell_type": "code",
   "execution_count": 32,
   "metadata": {},
   "outputs": [
    {
     "data": {
      "text/html": [
       "<div>\n",
       "<style scoped>\n",
       "    .dataframe tbody tr th:only-of-type {\n",
       "        vertical-align: middle;\n",
       "    }\n",
       "\n",
       "    .dataframe tbody tr th {\n",
       "        vertical-align: top;\n",
       "    }\n",
       "\n",
       "    .dataframe thead th {\n",
       "        text-align: right;\n",
       "    }\n",
       "</style>\n",
       "<table border=\"1\" class=\"dataframe\">\n",
       "  <thead>\n",
       "    <tr style=\"text-align: right;\">\n",
       "      <th></th>\n",
       "      <th>User Name</th>\n",
       "      <th>Product_id</th>\n",
       "      <th>Product Name</th>\n",
       "      <th>User location</th>\n",
       "      <th>Date</th>\n",
       "      <th>Review Text</th>\n",
       "    </tr>\n",
       "  </thead>\n",
       "  <tbody>\n",
       "    <tr>\n",
       "      <th>0</th>\n",
       "      <td>Anonymous</td>\n",
       "      <td>10954</td>\n",
       "      <td>Samsung Galaxy S21 FE 5G</td>\n",
       "      <td>JQ1</td>\n",
       "      <td>3 hours ago</td>\n",
       "      <td>Since S23 FE was launched, suddenly, the S21 F...</td>\n",
       "    </tr>\n",
       "    <tr>\n",
       "      <th>1</th>\n",
       "      <td>Anonymous</td>\n",
       "      <td>10954</td>\n",
       "      <td>Samsung Galaxy S21 FE 5G</td>\n",
       "      <td>i2Y</td>\n",
       "      <td>5 hours ago</td>\n",
       "      <td>Mohamad.Amini, 12 Oct 2023\\nBecause I have it,...</td>\n",
       "    </tr>\n",
       "    <tr>\n",
       "      <th>2</th>\n",
       "      <td>Anonymous</td>\n",
       "      <td>10954</td>\n",
       "      <td>Samsung Galaxy S21 FE 5G</td>\n",
       "      <td>i2Y</td>\n",
       "      <td>5 hours ago</td>\n",
       "      <td>Sam799, 13 Oct 2023\\nCause the S23 FE is one o...</td>\n",
       "    </tr>\n",
       "    <tr>\n",
       "      <th>3</th>\n",
       "      <td>Anonymous</td>\n",
       "      <td>10954</td>\n",
       "      <td>Samsung Galaxy S21 FE 5G</td>\n",
       "      <td>i2Y</td>\n",
       "      <td>5 hours ago</td>\n",
       "      <td>SweeetY, 9 hours ago\\nBetter than my S21 i had...</td>\n",
       "    </tr>\n",
       "    <tr>\n",
       "      <th>4</th>\n",
       "      <td>SweeetY</td>\n",
       "      <td>10954</td>\n",
       "      <td>Samsung Galaxy S21 FE 5G</td>\n",
       "      <td>p5F</td>\n",
       "      <td>9 hours ago</td>\n",
       "      <td>Better than my S21 i had to change because of ...</td>\n",
       "    </tr>\n",
       "    <tr>\n",
       "      <th>...</th>\n",
       "      <td>...</td>\n",
       "      <td>...</td>\n",
       "      <td>...</td>\n",
       "      <td>...</td>\n",
       "      <td>...</td>\n",
       "      <td>...</td>\n",
       "    </tr>\n",
       "    <tr>\n",
       "      <th>40123</th>\n",
       "      <td>Pk</td>\n",
       "      <td>12581</td>\n",
       "      <td>Xiaomi Redmi Note 13 Pro</td>\n",
       "      <td>UUJ</td>\n",
       "      <td>21-Sep-23</td>\n",
       "      <td>No Sd card slot = no buy</td>\n",
       "    </tr>\n",
       "    <tr>\n",
       "      <th>40124</th>\n",
       "      <td>Best</td>\n",
       "      <td>12581</td>\n",
       "      <td>Xiaomi Redmi Note 13 Pro</td>\n",
       "      <td>XBx</td>\n",
       "      <td>21-Sep-23</td>\n",
       "      <td>I love this</td>\n",
       "    </tr>\n",
       "    <tr>\n",
       "      <th>40125</th>\n",
       "      <td>Suresh</td>\n",
       "      <td>12581</td>\n",
       "      <td>Xiaomi Redmi Note 13 Pro</td>\n",
       "      <td>gMJ</td>\n",
       "      <td>21-Sep-23</td>\n",
       "      <td>No SD card slot, no interest.\\nSorry Redmi. Bu...</td>\n",
       "    </tr>\n",
       "    <tr>\n",
       "      <th>40126</th>\n",
       "      <td>Sachiintha</td>\n",
       "      <td>12581</td>\n",
       "      <td>Xiaomi Redmi Note 13 Pro</td>\n",
       "      <td>ter</td>\n",
       "      <td>21-Sep-23</td>\n",
       "      <td>Can't wait untill global launch 😻🙈</td>\n",
       "    </tr>\n",
       "    <tr>\n",
       "      <th>40127</th>\n",
       "      <td>Akash Ray</td>\n",
       "      <td>12581</td>\n",
       "      <td>Xiaomi Redmi Note 13 Pro</td>\n",
       "      <td>XZr</td>\n",
       "      <td>21-Sep-23</td>\n",
       "      <td>This is one of the best smart phone indisplay ...</td>\n",
       "    </tr>\n",
       "  </tbody>\n",
       "</table>\n",
       "<p>40058 rows × 6 columns</p>\n",
       "</div>"
      ],
      "text/plain": [
       "        User Name  Product_id               Product Name User location  \\\n",
       "0       Anonymous       10954  Samsung Galaxy S21 FE 5G            JQ1   \n",
       "1       Anonymous       10954  Samsung Galaxy S21 FE 5G            i2Y   \n",
       "2       Anonymous       10954  Samsung Galaxy S21 FE 5G            i2Y   \n",
       "3       Anonymous       10954  Samsung Galaxy S21 FE 5G            i2Y   \n",
       "4         SweeetY       10954  Samsung Galaxy S21 FE 5G            p5F   \n",
       "...           ...         ...                        ...           ...   \n",
       "40123          Pk       12581  Xiaomi Redmi Note 13 Pro            UUJ   \n",
       "40124        Best       12581  Xiaomi Redmi Note 13 Pro            XBx   \n",
       "40125      Suresh       12581  Xiaomi Redmi Note 13 Pro            gMJ   \n",
       "40126  Sachiintha       12581  Xiaomi Redmi Note 13 Pro            ter   \n",
       "40127   Akash Ray       12581  Xiaomi Redmi Note 13 Pro            XZr   \n",
       "\n",
       "              Date                                        Review Text  \n",
       "0      3 hours ago  Since S23 FE was launched, suddenly, the S21 F...  \n",
       "1      5 hours ago  Mohamad.Amini, 12 Oct 2023\\nBecause I have it,...  \n",
       "2      5 hours ago  Sam799, 13 Oct 2023\\nCause the S23 FE is one o...  \n",
       "3      5 hours ago  SweeetY, 9 hours ago\\nBetter than my S21 i had...  \n",
       "4      9 hours ago  Better than my S21 i had to change because of ...  \n",
       "...            ...                                                ...  \n",
       "40123    21-Sep-23                           No Sd card slot = no buy  \n",
       "40124    21-Sep-23                                        I love this  \n",
       "40125    21-Sep-23  No SD card slot, no interest.\\nSorry Redmi. Bu...  \n",
       "40126    21-Sep-23                 Can't wait untill global launch 😻🙈  \n",
       "40127    21-Sep-23  This is one of the best smart phone indisplay ...  \n",
       "\n",
       "[40058 rows x 6 columns]"
      ]
     },
     "execution_count": 32,
     "metadata": {},
     "output_type": "execute_result"
    }
   ],
   "source": [
    "stg_gsm"
   ]
  },
  {
   "cell_type": "code",
   "execution_count": 34,
   "metadata": {},
   "outputs": [],
   "source": [
    "db_session=create_connection()"
   ]
  },
  {
   "cell_type": "code",
   "execution_count": 48,
   "metadata": {},
   "outputs": [
    {
     "data": {
      "text/plain": [
       "False    40043\n",
       "dtype: int64"
      ]
     },
     "execution_count": 48,
     "metadata": {},
     "output_type": "execute_result"
    }
   ],
   "source": [
    "stg_gsm.duplicated().value_counts()"
   ]
  },
  {
   "cell_type": "code",
   "execution_count": 46,
   "metadata": {},
   "outputs": [
    {
     "data": {
      "text/html": [
       "<div>\n",
       "<style scoped>\n",
       "    .dataframe tbody tr th:only-of-type {\n",
       "        vertical-align: middle;\n",
       "    }\n",
       "\n",
       "    .dataframe tbody tr th {\n",
       "        vertical-align: top;\n",
       "    }\n",
       "\n",
       "    .dataframe thead th {\n",
       "        text-align: right;\n",
       "    }\n",
       "</style>\n",
       "<table border=\"1\" class=\"dataframe\">\n",
       "  <thead>\n",
       "    <tr style=\"text-align: right;\">\n",
       "      <th></th>\n",
       "      <th>User_Name</th>\n",
       "      <th>Product_id</th>\n",
       "      <th>Product_Name</th>\n",
       "      <th>Date</th>\n",
       "      <th>Review_Text</th>\n",
       "    </tr>\n",
       "  </thead>\n",
       "  <tbody>\n",
       "    <tr>\n",
       "      <th>0</th>\n",
       "      <td>Anonymous</td>\n",
       "      <td>10954</td>\n",
       "      <td>Samsung Galaxy S21 FE 5G</td>\n",
       "      <td>2023-10-16 22:57:14.931043</td>\n",
       "      <td>Since S23 FE was launched, suddenly, the S21 F...</td>\n",
       "    </tr>\n",
       "    <tr>\n",
       "      <th>1</th>\n",
       "      <td>Anonymous</td>\n",
       "      <td>10954</td>\n",
       "      <td>Samsung Galaxy S21 FE 5G</td>\n",
       "      <td>2023-10-16 22:57:14.931043</td>\n",
       "      <td>Mohamad.Amini, 12 Oct 2023\\nBecause I have it,...</td>\n",
       "    </tr>\n",
       "    <tr>\n",
       "      <th>2</th>\n",
       "      <td>Anonymous</td>\n",
       "      <td>10954</td>\n",
       "      <td>Samsung Galaxy S21 FE 5G</td>\n",
       "      <td>2023-10-16 22:57:14.931043</td>\n",
       "      <td>Sam799, 13 Oct 2023\\nCause the S23 FE is one o...</td>\n",
       "    </tr>\n",
       "    <tr>\n",
       "      <th>3</th>\n",
       "      <td>Anonymous</td>\n",
       "      <td>10954</td>\n",
       "      <td>Samsung Galaxy S21 FE 5G</td>\n",
       "      <td>2023-10-16 22:57:14.931043</td>\n",
       "      <td>SweeetY, 9 hours ago\\nBetter than my S21 i had...</td>\n",
       "    </tr>\n",
       "    <tr>\n",
       "      <th>4</th>\n",
       "      <td>SweeetY</td>\n",
       "      <td>10954</td>\n",
       "      <td>Samsung Galaxy S21 FE 5G</td>\n",
       "      <td>2023-10-16 22:57:14.931043</td>\n",
       "      <td>Better than my S21 i had to change because of ...</td>\n",
       "    </tr>\n",
       "    <tr>\n",
       "      <th>...</th>\n",
       "      <td>...</td>\n",
       "      <td>...</td>\n",
       "      <td>...</td>\n",
       "      <td>...</td>\n",
       "      <td>...</td>\n",
       "    </tr>\n",
       "    <tr>\n",
       "      <th>40123</th>\n",
       "      <td>Pk</td>\n",
       "      <td>12581</td>\n",
       "      <td>Xiaomi Redmi Note 13 Pro</td>\n",
       "      <td>2023-09-21 00:00:00.000000</td>\n",
       "      <td>No Sd card slot = no buy</td>\n",
       "    </tr>\n",
       "    <tr>\n",
       "      <th>40124</th>\n",
       "      <td>Best</td>\n",
       "      <td>12581</td>\n",
       "      <td>Xiaomi Redmi Note 13 Pro</td>\n",
       "      <td>2023-09-21 00:00:00.000000</td>\n",
       "      <td>I love this</td>\n",
       "    </tr>\n",
       "    <tr>\n",
       "      <th>40125</th>\n",
       "      <td>Suresh</td>\n",
       "      <td>12581</td>\n",
       "      <td>Xiaomi Redmi Note 13 Pro</td>\n",
       "      <td>2023-09-21 00:00:00.000000</td>\n",
       "      <td>No SD card slot, no interest.\\nSorry Redmi. Bu...</td>\n",
       "    </tr>\n",
       "    <tr>\n",
       "      <th>40126</th>\n",
       "      <td>Sachiintha</td>\n",
       "      <td>12581</td>\n",
       "      <td>Xiaomi Redmi Note 13 Pro</td>\n",
       "      <td>2023-09-21 00:00:00.000000</td>\n",
       "      <td>Can't wait untill global launch 😻🙈</td>\n",
       "    </tr>\n",
       "    <tr>\n",
       "      <th>40127</th>\n",
       "      <td>Akash Ray</td>\n",
       "      <td>12581</td>\n",
       "      <td>Xiaomi Redmi Note 13 Pro</td>\n",
       "      <td>2023-09-21 00:00:00.000000</td>\n",
       "      <td>This is one of the best smart phone indisplay ...</td>\n",
       "    </tr>\n",
       "  </tbody>\n",
       "</table>\n",
       "<p>40043 rows × 5 columns</p>\n",
       "</div>"
      ],
      "text/plain": [
       "        User_Name  Product_id               Product_Name  \\\n",
       "0       Anonymous       10954  Samsung Galaxy S21 FE 5G    \n",
       "1       Anonymous       10954  Samsung Galaxy S21 FE 5G    \n",
       "2       Anonymous       10954  Samsung Galaxy S21 FE 5G    \n",
       "3       Anonymous       10954  Samsung Galaxy S21 FE 5G    \n",
       "4         SweeetY       10954  Samsung Galaxy S21 FE 5G    \n",
       "...           ...         ...                        ...   \n",
       "40123          Pk       12581  Xiaomi Redmi Note 13 Pro    \n",
       "40124        Best       12581  Xiaomi Redmi Note 13 Pro    \n",
       "40125      Suresh       12581  Xiaomi Redmi Note 13 Pro    \n",
       "40126  Sachiintha       12581  Xiaomi Redmi Note 13 Pro    \n",
       "40127   Akash Ray       12581  Xiaomi Redmi Note 13 Pro    \n",
       "\n",
       "                            Date  \\\n",
       "0     2023-10-16 22:57:14.931043   \n",
       "1     2023-10-16 22:57:14.931043   \n",
       "2     2023-10-16 22:57:14.931043   \n",
       "3     2023-10-16 22:57:14.931043   \n",
       "4     2023-10-16 22:57:14.931043   \n",
       "...                          ...   \n",
       "40123 2023-09-21 00:00:00.000000   \n",
       "40124 2023-09-21 00:00:00.000000   \n",
       "40125 2023-09-21 00:00:00.000000   \n",
       "40126 2023-09-21 00:00:00.000000   \n",
       "40127 2023-09-21 00:00:00.000000   \n",
       "\n",
       "                                             Review_Text  \n",
       "0      Since S23 FE was launched, suddenly, the S21 F...  \n",
       "1      Mohamad.Amini, 12 Oct 2023\\nBecause I have it,...  \n",
       "2      Sam799, 13 Oct 2023\\nCause the S23 FE is one o...  \n",
       "3      SweeetY, 9 hours ago\\nBetter than my S21 i had...  \n",
       "4      Better than my S21 i had to change because of ...  \n",
       "...                                                  ...  \n",
       "40123                           No Sd card slot = no buy  \n",
       "40124                                        I love this  \n",
       "40125  No SD card slot, no interest.\\nSorry Redmi. Bu...  \n",
       "40126                 Can't wait untill global launch 😻🙈  \n",
       "40127  This is one of the best smart phone indisplay ...  \n",
       "\n",
       "[40043 rows x 5 columns]"
      ]
     },
     "execution_count": 46,
     "metadata": {},
     "output_type": "execute_result"
    }
   ],
   "source": [
    "stg_gsm"
   ]
  },
  {
   "cell_type": "code",
   "execution_count": 44,
   "metadata": {},
   "outputs": [],
   "source": [
    "stg_gsm.drop_duplicates(inplace=True)"
   ]
  },
  {
   "cell_type": "code",
   "execution_count": 47,
   "metadata": {},
   "outputs": [],
   "source": [
    "from cleaning_dfs_handler import clean_reviews_gsm\n",
    "from database_handler import return_insert_into_sql_statement_from_df,execute_query\n",
    "#stg_gsm=clean_reviews_gsm(stg_gsm)\n",
    "insert_stmt_reviews=return_insert_into_sql_statement_from_df(stg_gsm,'stg_gsm_reviews')\n",
    "for insert in insert_stmt_reviews:\n",
    "        execute_query(db_session=db_session,query=insert)"
   ]
  },
  {
   "cell_type": "code",
   "execution_count": 5,
   "metadata": {},
   "outputs": [
    {
     "name": "stderr",
     "output_type": "stream",
     "text": [
      "c:\\Users\\lenovo\\Desktop\\SE_Factory\\fsd_tech_product_analyzer\\cleaning_dfs_handler.py:40: FutureWarning: The default value of regex will change from True to False in a future version. In addition, single character regular expressions will *not* be treated as literal strings when regex=True.\n",
      "  return_df.columns=return_df.columns.str.replace(\".\",\"_\")\n",
      "[nltk_data] Downloading package vader_lexicon to\n",
      "[nltk_data]     C:\\Users\\lenovo\\AppData\\Roaming\\nltk_data...\n",
      "[nltk_data]   Package vader_lexicon is already up-to-date!\n",
      "[nltk_data] Downloading package vader_lexicon to\n",
      "[nltk_data]     C:\\Users\\lenovo\\AppData\\Roaming\\nltk_data...\n",
      "[nltk_data]   Package vader_lexicon is already up-to-date!\n"
     ]
    }
   ],
   "source": [
    "driver = webdriver.Chrome()\n",
    "options=Options()\n",
    "options.add_argument('--headless')\n",
    "driver = webdriver.Chrome(options=options)\n",
    "\n",
    "\n",
    "from hook import insert_specs_gsm_reviews_stg\n",
    "from database_handler import create_connection\n",
    "import praw\n",
    "reddit=praw.Reddit(\n",
    "        client_id=\"A99udy2Ex7RaoBzW5O3Gdw\",\n",
    "        client_secret=\"jOKXzOzOe9sk-wn-i5a7c4I4zdac4w\",\n",
    "        user_agent=\"my-tech\"\n",
    "    )\n",
    "db_session=create_connection()\n",
    "insert_specs_gsm_reviews_stg(db_session=db_session,reddit=reddit,driver=driver,all_specs=stg_product,all_reviews=stg_gsm,all_reviews_reddit=stg_reddit)\n"
   ]
  }
 ],
 "metadata": {
  "kernelspec": {
   "display_name": "se_pl_analysis_env",
   "language": "python",
   "name": "python3"
  },
  "language_info": {
   "codemirror_mode": {
    "name": "ipython",
    "version": 3
   },
   "file_extension": ".py",
   "mimetype": "text/x-python",
   "name": "python",
   "nbconvert_exporter": "python",
   "pygments_lexer": "ipython3",
   "version": "3.10.9"
  }
 },
 "nbformat": 4,
 "nbformat_minor": 2
}
